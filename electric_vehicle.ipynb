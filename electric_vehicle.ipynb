{
 "cells": [
  {
   "cell_type": "markdown",
   "metadata": {},
   "source": [
    "This dataset shows the number of vehicles that were registered by Washington State Department of Licensing (DOL) each month. The data is separated by county for passenger vehicles and trucks."
   ]
  },
  {
   "cell_type": "code",
   "execution_count": 455,
   "metadata": {},
   "outputs": [
    {
     "data": {
      "text/html": [
       "<div>\n",
       "<style scoped>\n",
       "    .dataframe tbody tr th:only-of-type {\n",
       "        vertical-align: middle;\n",
       "    }\n",
       "\n",
       "    .dataframe tbody tr th {\n",
       "        vertical-align: top;\n",
       "    }\n",
       "\n",
       "    .dataframe thead th {\n",
       "        text-align: right;\n",
       "    }\n",
       "</style>\n",
       "<table border=\"1\" class=\"dataframe\">\n",
       "  <thead>\n",
       "    <tr style=\"text-align: right;\">\n",
       "      <th></th>\n",
       "      <th>Date</th>\n",
       "      <th>County</th>\n",
       "      <th>State</th>\n",
       "      <th>Vehicle Primary Use</th>\n",
       "      <th>Battery Electric Vehicles (BEVs)</th>\n",
       "      <th>Plug-In Hybrid Electric Vehicles (PHEVs)</th>\n",
       "      <th>Electric Vehicle (EV) Total</th>\n",
       "      <th>Non-Electric Vehicle Total</th>\n",
       "      <th>Total Vehicles</th>\n",
       "      <th>Percent Electric Vehicles</th>\n",
       "    </tr>\n",
       "  </thead>\n",
       "  <tbody>\n",
       "    <tr>\n",
       "      <th>0</th>\n",
       "      <td>September 30 2022</td>\n",
       "      <td>Riverside</td>\n",
       "      <td>CA</td>\n",
       "      <td>Passenger</td>\n",
       "      <td>7</td>\n",
       "      <td>0</td>\n",
       "      <td>7</td>\n",
       "      <td>460</td>\n",
       "      <td>467</td>\n",
       "      <td>1.50</td>\n",
       "    </tr>\n",
       "    <tr>\n",
       "      <th>1</th>\n",
       "      <td>December 31 2022</td>\n",
       "      <td>Prince William</td>\n",
       "      <td>VA</td>\n",
       "      <td>Passenger</td>\n",
       "      <td>1</td>\n",
       "      <td>2</td>\n",
       "      <td>3</td>\n",
       "      <td>188</td>\n",
       "      <td>191</td>\n",
       "      <td>1.57</td>\n",
       "    </tr>\n",
       "    <tr>\n",
       "      <th>2</th>\n",
       "      <td>January 31 2020</td>\n",
       "      <td>Dakota</td>\n",
       "      <td>MN</td>\n",
       "      <td>Passenger</td>\n",
       "      <td>0</td>\n",
       "      <td>1</td>\n",
       "      <td>1</td>\n",
       "      <td>32</td>\n",
       "      <td>33</td>\n",
       "      <td>3.03</td>\n",
       "    </tr>\n",
       "    <tr>\n",
       "      <th>3</th>\n",
       "      <td>June 30 2022</td>\n",
       "      <td>Ferry</td>\n",
       "      <td>WA</td>\n",
       "      <td>Truck</td>\n",
       "      <td>0</td>\n",
       "      <td>0</td>\n",
       "      <td>0</td>\n",
       "      <td>3,575</td>\n",
       "      <td>3,575</td>\n",
       "      <td>0.00</td>\n",
       "    </tr>\n",
       "    <tr>\n",
       "      <th>4</th>\n",
       "      <td>July 31 2021</td>\n",
       "      <td>Douglas</td>\n",
       "      <td>CO</td>\n",
       "      <td>Passenger</td>\n",
       "      <td>0</td>\n",
       "      <td>1</td>\n",
       "      <td>1</td>\n",
       "      <td>83</td>\n",
       "      <td>84</td>\n",
       "      <td>1.19</td>\n",
       "    </tr>\n",
       "    <tr>\n",
       "      <th>...</th>\n",
       "      <td>...</td>\n",
       "      <td>...</td>\n",
       "      <td>...</td>\n",
       "      <td>...</td>\n",
       "      <td>...</td>\n",
       "      <td>...</td>\n",
       "      <td>...</td>\n",
       "      <td>...</td>\n",
       "      <td>...</td>\n",
       "      <td>...</td>\n",
       "    </tr>\n",
       "    <tr>\n",
       "      <th>20814</th>\n",
       "      <td>January 31 2023</td>\n",
       "      <td>Rockingham</td>\n",
       "      <td>NH</td>\n",
       "      <td>Passenger</td>\n",
       "      <td>1</td>\n",
       "      <td>0</td>\n",
       "      <td>1</td>\n",
       "      <td>14</td>\n",
       "      <td>15</td>\n",
       "      <td>6.67</td>\n",
       "    </tr>\n",
       "    <tr>\n",
       "      <th>20815</th>\n",
       "      <td>July 31 2020</td>\n",
       "      <td>Carson City</td>\n",
       "      <td>NV</td>\n",
       "      <td>Passenger</td>\n",
       "      <td>1</td>\n",
       "      <td>0</td>\n",
       "      <td>1</td>\n",
       "      <td>10</td>\n",
       "      <td>11</td>\n",
       "      <td>9.09</td>\n",
       "    </tr>\n",
       "    <tr>\n",
       "      <th>20816</th>\n",
       "      <td>February 28 2022</td>\n",
       "      <td>Island</td>\n",
       "      <td>WA</td>\n",
       "      <td>Passenger</td>\n",
       "      <td>744</td>\n",
       "      <td>350</td>\n",
       "      <td>1,094</td>\n",
       "      <td>62,257</td>\n",
       "      <td>63,351</td>\n",
       "      <td>1.73</td>\n",
       "    </tr>\n",
       "    <tr>\n",
       "      <th>20817</th>\n",
       "      <td>December 31 2020</td>\n",
       "      <td>San Diego</td>\n",
       "      <td>CA</td>\n",
       "      <td>Passenger</td>\n",
       "      <td>14</td>\n",
       "      <td>2</td>\n",
       "      <td>16</td>\n",
       "      <td>2,724</td>\n",
       "      <td>2,740</td>\n",
       "      <td>0.58</td>\n",
       "    </tr>\n",
       "    <tr>\n",
       "      <th>20818</th>\n",
       "      <td>November 30 2019</td>\n",
       "      <td>Goochland</td>\n",
       "      <td>VA</td>\n",
       "      <td>Passenger</td>\n",
       "      <td>3</td>\n",
       "      <td>1</td>\n",
       "      <td>4</td>\n",
       "      <td>271</td>\n",
       "      <td>275</td>\n",
       "      <td>1.45</td>\n",
       "    </tr>\n",
       "  </tbody>\n",
       "</table>\n",
       "<p>20819 rows × 10 columns</p>\n",
       "</div>"
      ],
      "text/plain": [
       "                    Date          County State Vehicle Primary Use  \\\n",
       "0      September 30 2022       Riverside    CA           Passenger   \n",
       "1       December 31 2022  Prince William    VA           Passenger   \n",
       "2        January 31 2020          Dakota    MN           Passenger   \n",
       "3           June 30 2022           Ferry    WA               Truck   \n",
       "4           July 31 2021         Douglas    CO           Passenger   \n",
       "...                  ...             ...   ...                 ...   \n",
       "20814    January 31 2023      Rockingham    NH           Passenger   \n",
       "20815       July 31 2020     Carson City    NV           Passenger   \n",
       "20816   February 28 2022          Island    WA           Passenger   \n",
       "20817   December 31 2020       San Diego    CA           Passenger   \n",
       "20818   November 30 2019       Goochland    VA           Passenger   \n",
       "\n",
       "      Battery Electric Vehicles (BEVs)  \\\n",
       "0                                    7   \n",
       "1                                    1   \n",
       "2                                    0   \n",
       "3                                    0   \n",
       "4                                    0   \n",
       "...                                ...   \n",
       "20814                                1   \n",
       "20815                                1   \n",
       "20816                              744   \n",
       "20817                               14   \n",
       "20818                                3   \n",
       "\n",
       "      Plug-In Hybrid Electric Vehicles (PHEVs) Electric Vehicle (EV) Total  \\\n",
       "0                                            0                           7   \n",
       "1                                            2                           3   \n",
       "2                                            1                           1   \n",
       "3                                            0                           0   \n",
       "4                                            1                           1   \n",
       "...                                        ...                         ...   \n",
       "20814                                        0                           1   \n",
       "20815                                        0                           1   \n",
       "20816                                      350                       1,094   \n",
       "20817                                        2                          16   \n",
       "20818                                        1                           4   \n",
       "\n",
       "      Non-Electric Vehicle Total Total Vehicles  Percent Electric Vehicles  \n",
       "0                            460            467                       1.50  \n",
       "1                            188            191                       1.57  \n",
       "2                             32             33                       3.03  \n",
       "3                          3,575          3,575                       0.00  \n",
       "4                             83             84                       1.19  \n",
       "...                          ...            ...                        ...  \n",
       "20814                         14             15                       6.67  \n",
       "20815                         10             11                       9.09  \n",
       "20816                     62,257         63,351                       1.73  \n",
       "20817                      2,724          2,740                       0.58  \n",
       "20818                        271            275                       1.45  \n",
       "\n",
       "[20819 rows x 10 columns]"
      ]
     },
     "execution_count": 455,
     "metadata": {},
     "output_type": "execute_result"
    }
   ],
   "source": [
    "#data understanding and cleaning\n",
    "#note: ev_df = electric_vehicle_df\n",
    "\n",
    "import pandas as pd\n",
    "ev_ = pd.read_csv('electric_vehicle.csv')\n",
    "ev_"
   ]
  },
  {
   "cell_type": "code",
   "execution_count": 456,
   "metadata": {},
   "outputs": [
    {
     "data": {
      "text/html": [
       "<div>\n",
       "<style scoped>\n",
       "    .dataframe tbody tr th:only-of-type {\n",
       "        vertical-align: middle;\n",
       "    }\n",
       "\n",
       "    .dataframe tbody tr th {\n",
       "        vertical-align: top;\n",
       "    }\n",
       "\n",
       "    .dataframe thead th {\n",
       "        text-align: right;\n",
       "    }\n",
       "</style>\n",
       "<table border=\"1\" class=\"dataframe\">\n",
       "  <thead>\n",
       "    <tr style=\"text-align: right;\">\n",
       "      <th></th>\n",
       "      <th>Date</th>\n",
       "      <th>County</th>\n",
       "      <th>State</th>\n",
       "      <th>Vehicle Primary Use</th>\n",
       "      <th>Battery Electric Vehicles (BEVs)</th>\n",
       "      <th>Plug-In Hybrid Electric Vehicles (PHEVs)</th>\n",
       "      <th>Electric Vehicle (EV) Total</th>\n",
       "      <th>Non-Electric Vehicle Total</th>\n",
       "      <th>Total Vehicles</th>\n",
       "      <th>Percent Electric Vehicles</th>\n",
       "    </tr>\n",
       "  </thead>\n",
       "  <tbody>\n",
       "    <tr>\n",
       "      <th>0</th>\n",
       "      <td>September 30 2022</td>\n",
       "      <td>Riverside</td>\n",
       "      <td>CA</td>\n",
       "      <td>Passenger</td>\n",
       "      <td>7</td>\n",
       "      <td>0</td>\n",
       "      <td>7</td>\n",
       "      <td>460</td>\n",
       "      <td>467</td>\n",
       "      <td>1.50</td>\n",
       "    </tr>\n",
       "    <tr>\n",
       "      <th>1</th>\n",
       "      <td>December 31 2022</td>\n",
       "      <td>Prince William</td>\n",
       "      <td>VA</td>\n",
       "      <td>Passenger</td>\n",
       "      <td>1</td>\n",
       "      <td>2</td>\n",
       "      <td>3</td>\n",
       "      <td>188</td>\n",
       "      <td>191</td>\n",
       "      <td>1.57</td>\n",
       "    </tr>\n",
       "    <tr>\n",
       "      <th>2</th>\n",
       "      <td>January 31 2020</td>\n",
       "      <td>Dakota</td>\n",
       "      <td>MN</td>\n",
       "      <td>Passenger</td>\n",
       "      <td>0</td>\n",
       "      <td>1</td>\n",
       "      <td>1</td>\n",
       "      <td>32</td>\n",
       "      <td>33</td>\n",
       "      <td>3.03</td>\n",
       "    </tr>\n",
       "    <tr>\n",
       "      <th>3</th>\n",
       "      <td>June 30 2022</td>\n",
       "      <td>Ferry</td>\n",
       "      <td>WA</td>\n",
       "      <td>Truck</td>\n",
       "      <td>0</td>\n",
       "      <td>0</td>\n",
       "      <td>0</td>\n",
       "      <td>3,575</td>\n",
       "      <td>3,575</td>\n",
       "      <td>0.00</td>\n",
       "    </tr>\n",
       "    <tr>\n",
       "      <th>4</th>\n",
       "      <td>July 31 2021</td>\n",
       "      <td>Douglas</td>\n",
       "      <td>CO</td>\n",
       "      <td>Passenger</td>\n",
       "      <td>0</td>\n",
       "      <td>1</td>\n",
       "      <td>1</td>\n",
       "      <td>83</td>\n",
       "      <td>84</td>\n",
       "      <td>1.19</td>\n",
       "    </tr>\n",
       "    <tr>\n",
       "      <th>...</th>\n",
       "      <td>...</td>\n",
       "      <td>...</td>\n",
       "      <td>...</td>\n",
       "      <td>...</td>\n",
       "      <td>...</td>\n",
       "      <td>...</td>\n",
       "      <td>...</td>\n",
       "      <td>...</td>\n",
       "      <td>...</td>\n",
       "      <td>...</td>\n",
       "    </tr>\n",
       "    <tr>\n",
       "      <th>20814</th>\n",
       "      <td>January 31 2023</td>\n",
       "      <td>Rockingham</td>\n",
       "      <td>NH</td>\n",
       "      <td>Passenger</td>\n",
       "      <td>1</td>\n",
       "      <td>0</td>\n",
       "      <td>1</td>\n",
       "      <td>14</td>\n",
       "      <td>15</td>\n",
       "      <td>6.67</td>\n",
       "    </tr>\n",
       "    <tr>\n",
       "      <th>20815</th>\n",
       "      <td>July 31 2020</td>\n",
       "      <td>Carson City</td>\n",
       "      <td>NV</td>\n",
       "      <td>Passenger</td>\n",
       "      <td>1</td>\n",
       "      <td>0</td>\n",
       "      <td>1</td>\n",
       "      <td>10</td>\n",
       "      <td>11</td>\n",
       "      <td>9.09</td>\n",
       "    </tr>\n",
       "    <tr>\n",
       "      <th>20816</th>\n",
       "      <td>February 28 2022</td>\n",
       "      <td>Island</td>\n",
       "      <td>WA</td>\n",
       "      <td>Passenger</td>\n",
       "      <td>744</td>\n",
       "      <td>350</td>\n",
       "      <td>1,094</td>\n",
       "      <td>62,257</td>\n",
       "      <td>63,351</td>\n",
       "      <td>1.73</td>\n",
       "    </tr>\n",
       "    <tr>\n",
       "      <th>20817</th>\n",
       "      <td>December 31 2020</td>\n",
       "      <td>San Diego</td>\n",
       "      <td>CA</td>\n",
       "      <td>Passenger</td>\n",
       "      <td>14</td>\n",
       "      <td>2</td>\n",
       "      <td>16</td>\n",
       "      <td>2,724</td>\n",
       "      <td>2,740</td>\n",
       "      <td>0.58</td>\n",
       "    </tr>\n",
       "    <tr>\n",
       "      <th>20818</th>\n",
       "      <td>November 30 2019</td>\n",
       "      <td>Goochland</td>\n",
       "      <td>VA</td>\n",
       "      <td>Passenger</td>\n",
       "      <td>3</td>\n",
       "      <td>1</td>\n",
       "      <td>4</td>\n",
       "      <td>271</td>\n",
       "      <td>275</td>\n",
       "      <td>1.45</td>\n",
       "    </tr>\n",
       "  </tbody>\n",
       "</table>\n",
       "<p>20819 rows × 10 columns</p>\n",
       "</div>"
      ],
      "text/plain": [
       "                    Date          County State Vehicle Primary Use  \\\n",
       "0      September 30 2022       Riverside    CA           Passenger   \n",
       "1       December 31 2022  Prince William    VA           Passenger   \n",
       "2        January 31 2020          Dakota    MN           Passenger   \n",
       "3           June 30 2022           Ferry    WA               Truck   \n",
       "4           July 31 2021         Douglas    CO           Passenger   \n",
       "...                  ...             ...   ...                 ...   \n",
       "20814    January 31 2023      Rockingham    NH           Passenger   \n",
       "20815       July 31 2020     Carson City    NV           Passenger   \n",
       "20816   February 28 2022          Island    WA           Passenger   \n",
       "20817   December 31 2020       San Diego    CA           Passenger   \n",
       "20818   November 30 2019       Goochland    VA           Passenger   \n",
       "\n",
       "      Battery Electric Vehicles (BEVs)  \\\n",
       "0                                    7   \n",
       "1                                    1   \n",
       "2                                    0   \n",
       "3                                    0   \n",
       "4                                    0   \n",
       "...                                ...   \n",
       "20814                                1   \n",
       "20815                                1   \n",
       "20816                              744   \n",
       "20817                               14   \n",
       "20818                                3   \n",
       "\n",
       "      Plug-In Hybrid Electric Vehicles (PHEVs) Electric Vehicle (EV) Total  \\\n",
       "0                                            0                           7   \n",
       "1                                            2                           3   \n",
       "2                                            1                           1   \n",
       "3                                            0                           0   \n",
       "4                                            1                           1   \n",
       "...                                        ...                         ...   \n",
       "20814                                        0                           1   \n",
       "20815                                        0                           1   \n",
       "20816                                      350                       1,094   \n",
       "20817                                        2                          16   \n",
       "20818                                        1                           4   \n",
       "\n",
       "      Non-Electric Vehicle Total Total Vehicles  Percent Electric Vehicles  \n",
       "0                            460            467                       1.50  \n",
       "1                            188            191                       1.57  \n",
       "2                             32             33                       3.03  \n",
       "3                          3,575          3,575                       0.00  \n",
       "4                             83             84                       1.19  \n",
       "...                          ...            ...                        ...  \n",
       "20814                         14             15                       6.67  \n",
       "20815                         10             11                       9.09  \n",
       "20816                     62,257         63,351                       1.73  \n",
       "20817                      2,724          2,740                       0.58  \n",
       "20818                        271            275                       1.45  \n",
       "\n",
       "[20819 rows x 10 columns]"
      ]
     },
     "execution_count": 456,
     "metadata": {},
     "output_type": "execute_result"
    }
   ],
   "source": [
    "ev_df = ev_.copy()\n",
    "ev_df"
   ]
  },
  {
   "cell_type": "code",
   "execution_count": 457,
   "metadata": {},
   "outputs": [
    {
     "name": "stdout",
     "output_type": "stream",
     "text": [
      "<class 'pandas.core.frame.DataFrame'>\n",
      "RangeIndex: 20819 entries, 0 to 20818\n",
      "Data columns (total 10 columns):\n",
      " #   Column                                    Non-Null Count  Dtype  \n",
      "---  ------                                    --------------  -----  \n",
      " 0   Date                                      20819 non-null  object \n",
      " 1   County                                    20733 non-null  object \n",
      " 2   State                                     20733 non-null  object \n",
      " 3   Vehicle Primary Use                       20819 non-null  object \n",
      " 4   Battery Electric Vehicles (BEVs)          20819 non-null  object \n",
      " 5   Plug-In Hybrid Electric Vehicles (PHEVs)  20819 non-null  object \n",
      " 6   Electric Vehicle (EV) Total               20819 non-null  object \n",
      " 7   Non-Electric Vehicle Total                20819 non-null  object \n",
      " 8   Total Vehicles                            20819 non-null  object \n",
      " 9   Percent Electric Vehicles                 20819 non-null  float64\n",
      "dtypes: float64(1), object(9)\n",
      "memory usage: 1.6+ MB\n"
     ]
    }
   ],
   "source": [
    "ev_df.info()"
   ]
  },
  {
   "cell_type": "code",
   "execution_count": 458,
   "metadata": {},
   "outputs": [
    {
     "data": {
      "text/html": [
       "<div>\n",
       "<style scoped>\n",
       "    .dataframe tbody tr th:only-of-type {\n",
       "        vertical-align: middle;\n",
       "    }\n",
       "\n",
       "    .dataframe tbody tr th {\n",
       "        vertical-align: top;\n",
       "    }\n",
       "\n",
       "    .dataframe thead th {\n",
       "        text-align: right;\n",
       "    }\n",
       "</style>\n",
       "<table border=\"1\" class=\"dataframe\">\n",
       "  <thead>\n",
       "    <tr style=\"text-align: right;\">\n",
       "      <th></th>\n",
       "      <th>Percent Electric Vehicles</th>\n",
       "    </tr>\n",
       "  </thead>\n",
       "  <tbody>\n",
       "    <tr>\n",
       "      <th>count</th>\n",
       "      <td>20819.000000</td>\n",
       "    </tr>\n",
       "    <tr>\n",
       "      <th>mean</th>\n",
       "      <td>4.139216</td>\n",
       "    </tr>\n",
       "    <tr>\n",
       "      <th>std</th>\n",
       "      <td>11.055350</td>\n",
       "    </tr>\n",
       "    <tr>\n",
       "      <th>min</th>\n",
       "      <td>0.000000</td>\n",
       "    </tr>\n",
       "    <tr>\n",
       "      <th>25%</th>\n",
       "      <td>0.390000</td>\n",
       "    </tr>\n",
       "    <tr>\n",
       "      <th>50%</th>\n",
       "      <td>1.220000</td>\n",
       "    </tr>\n",
       "    <tr>\n",
       "      <th>75%</th>\n",
       "      <td>2.995000</td>\n",
       "    </tr>\n",
       "    <tr>\n",
       "      <th>max</th>\n",
       "      <td>100.000000</td>\n",
       "    </tr>\n",
       "  </tbody>\n",
       "</table>\n",
       "</div>"
      ],
      "text/plain": [
       "       Percent Electric Vehicles\n",
       "count               20819.000000\n",
       "mean                    4.139216\n",
       "std                    11.055350\n",
       "min                     0.000000\n",
       "25%                     0.390000\n",
       "50%                     1.220000\n",
       "75%                     2.995000\n",
       "max                   100.000000"
      ]
     },
     "execution_count": 458,
     "metadata": {},
     "output_type": "execute_result"
    }
   ],
   "source": [
    "ev_df.describe()"
   ]
  },
  {
   "cell_type": "code",
   "execution_count": 459,
   "metadata": {},
   "outputs": [
    {
     "data": {
      "text/plain": [
       "False    20819\n",
       "Name: count, dtype: int64"
      ]
     },
     "execution_count": 459,
     "metadata": {},
     "output_type": "execute_result"
    }
   ],
   "source": [
    "ev_df.duplicated().value_counts()"
   ]
  },
  {
   "cell_type": "code",
   "execution_count": 460,
   "metadata": {},
   "outputs": [
    {
     "data": {
      "text/plain": [
       "Date   County  State  Vehicle Primary Use  Battery Electric Vehicles (BEVs)  Plug-In Hybrid Electric Vehicles (PHEVs)  Electric Vehicle (EV) Total  Non-Electric Vehicle Total  Total Vehicles  Percent Electric Vehicles\n",
       "False  False   False  False                False                             False                                     False                        False                       False           False                        20733\n",
       "       True    True   False                False                             False                                     False                        False                       False           False                           86\n",
       "Name: count, dtype: int64"
      ]
     },
     "execution_count": 460,
     "metadata": {},
     "output_type": "execute_result"
    }
   ],
   "source": [
    "ev_df.isnull().value_counts()"
   ]
  },
  {
   "cell_type": "code",
   "execution_count": 461,
   "metadata": {},
   "outputs": [
    {
     "data": {
      "text/html": [
       "<div>\n",
       "<style scoped>\n",
       "    .dataframe tbody tr th:only-of-type {\n",
       "        vertical-align: middle;\n",
       "    }\n",
       "\n",
       "    .dataframe tbody tr th {\n",
       "        vertical-align: top;\n",
       "    }\n",
       "\n",
       "    .dataframe thead th {\n",
       "        text-align: right;\n",
       "    }\n",
       "</style>\n",
       "<table border=\"1\" class=\"dataframe\">\n",
       "  <thead>\n",
       "    <tr style=\"text-align: right;\">\n",
       "      <th></th>\n",
       "      <th>Date</th>\n",
       "      <th>County</th>\n",
       "      <th>State</th>\n",
       "      <th>Vehicle Primary Use</th>\n",
       "      <th>Battery Electric Vehicles (BEVs)</th>\n",
       "      <th>Plug-In Hybrid Electric Vehicles (PHEVs)</th>\n",
       "      <th>Electric Vehicle (EV) Total</th>\n",
       "      <th>Non-Electric Vehicle Total</th>\n",
       "      <th>Total Vehicles</th>\n",
       "      <th>Percent Electric Vehicles</th>\n",
       "    </tr>\n",
       "  </thead>\n",
       "  <tbody>\n",
       "    <tr>\n",
       "      <th>0</th>\n",
       "      <td>September 30 2022</td>\n",
       "      <td>Riverside</td>\n",
       "      <td>CA</td>\n",
       "      <td>Passenger</td>\n",
       "      <td>7</td>\n",
       "      <td>0</td>\n",
       "      <td>7</td>\n",
       "      <td>460</td>\n",
       "      <td>467</td>\n",
       "      <td>1.50</td>\n",
       "    </tr>\n",
       "    <tr>\n",
       "      <th>1</th>\n",
       "      <td>December 31 2022</td>\n",
       "      <td>Prince William</td>\n",
       "      <td>VA</td>\n",
       "      <td>Passenger</td>\n",
       "      <td>1</td>\n",
       "      <td>2</td>\n",
       "      <td>3</td>\n",
       "      <td>188</td>\n",
       "      <td>191</td>\n",
       "      <td>1.57</td>\n",
       "    </tr>\n",
       "    <tr>\n",
       "      <th>2</th>\n",
       "      <td>January 31 2020</td>\n",
       "      <td>Dakota</td>\n",
       "      <td>MN</td>\n",
       "      <td>Passenger</td>\n",
       "      <td>0</td>\n",
       "      <td>1</td>\n",
       "      <td>1</td>\n",
       "      <td>32</td>\n",
       "      <td>33</td>\n",
       "      <td>3.03</td>\n",
       "    </tr>\n",
       "    <tr>\n",
       "      <th>3</th>\n",
       "      <td>June 30 2022</td>\n",
       "      <td>Ferry</td>\n",
       "      <td>WA</td>\n",
       "      <td>Truck</td>\n",
       "      <td>0</td>\n",
       "      <td>0</td>\n",
       "      <td>0</td>\n",
       "      <td>3,575</td>\n",
       "      <td>3,575</td>\n",
       "      <td>0.00</td>\n",
       "    </tr>\n",
       "    <tr>\n",
       "      <th>4</th>\n",
       "      <td>July 31 2021</td>\n",
       "      <td>Douglas</td>\n",
       "      <td>CO</td>\n",
       "      <td>Passenger</td>\n",
       "      <td>0</td>\n",
       "      <td>1</td>\n",
       "      <td>1</td>\n",
       "      <td>83</td>\n",
       "      <td>84</td>\n",
       "      <td>1.19</td>\n",
       "    </tr>\n",
       "    <tr>\n",
       "      <th>...</th>\n",
       "      <td>...</td>\n",
       "      <td>...</td>\n",
       "      <td>...</td>\n",
       "      <td>...</td>\n",
       "      <td>...</td>\n",
       "      <td>...</td>\n",
       "      <td>...</td>\n",
       "      <td>...</td>\n",
       "      <td>...</td>\n",
       "      <td>...</td>\n",
       "    </tr>\n",
       "    <tr>\n",
       "      <th>20814</th>\n",
       "      <td>January 31 2023</td>\n",
       "      <td>Rockingham</td>\n",
       "      <td>NH</td>\n",
       "      <td>Passenger</td>\n",
       "      <td>1</td>\n",
       "      <td>0</td>\n",
       "      <td>1</td>\n",
       "      <td>14</td>\n",
       "      <td>15</td>\n",
       "      <td>6.67</td>\n",
       "    </tr>\n",
       "    <tr>\n",
       "      <th>20815</th>\n",
       "      <td>July 31 2020</td>\n",
       "      <td>Carson City</td>\n",
       "      <td>NV</td>\n",
       "      <td>Passenger</td>\n",
       "      <td>1</td>\n",
       "      <td>0</td>\n",
       "      <td>1</td>\n",
       "      <td>10</td>\n",
       "      <td>11</td>\n",
       "      <td>9.09</td>\n",
       "    </tr>\n",
       "    <tr>\n",
       "      <th>20816</th>\n",
       "      <td>February 28 2022</td>\n",
       "      <td>Island</td>\n",
       "      <td>WA</td>\n",
       "      <td>Passenger</td>\n",
       "      <td>744</td>\n",
       "      <td>350</td>\n",
       "      <td>1,094</td>\n",
       "      <td>62,257</td>\n",
       "      <td>63,351</td>\n",
       "      <td>1.73</td>\n",
       "    </tr>\n",
       "    <tr>\n",
       "      <th>20817</th>\n",
       "      <td>December 31 2020</td>\n",
       "      <td>San Diego</td>\n",
       "      <td>CA</td>\n",
       "      <td>Passenger</td>\n",
       "      <td>14</td>\n",
       "      <td>2</td>\n",
       "      <td>16</td>\n",
       "      <td>2,724</td>\n",
       "      <td>2,740</td>\n",
       "      <td>0.58</td>\n",
       "    </tr>\n",
       "    <tr>\n",
       "      <th>20818</th>\n",
       "      <td>November 30 2019</td>\n",
       "      <td>Goochland</td>\n",
       "      <td>VA</td>\n",
       "      <td>Passenger</td>\n",
       "      <td>3</td>\n",
       "      <td>1</td>\n",
       "      <td>4</td>\n",
       "      <td>271</td>\n",
       "      <td>275</td>\n",
       "      <td>1.45</td>\n",
       "    </tr>\n",
       "  </tbody>\n",
       "</table>\n",
       "<p>20733 rows × 10 columns</p>\n",
       "</div>"
      ],
      "text/plain": [
       "                    Date          County State Vehicle Primary Use  \\\n",
       "0      September 30 2022       Riverside    CA           Passenger   \n",
       "1       December 31 2022  Prince William    VA           Passenger   \n",
       "2        January 31 2020          Dakota    MN           Passenger   \n",
       "3           June 30 2022           Ferry    WA               Truck   \n",
       "4           July 31 2021         Douglas    CO           Passenger   \n",
       "...                  ...             ...   ...                 ...   \n",
       "20814    January 31 2023      Rockingham    NH           Passenger   \n",
       "20815       July 31 2020     Carson City    NV           Passenger   \n",
       "20816   February 28 2022          Island    WA           Passenger   \n",
       "20817   December 31 2020       San Diego    CA           Passenger   \n",
       "20818   November 30 2019       Goochland    VA           Passenger   \n",
       "\n",
       "      Battery Electric Vehicles (BEVs)  \\\n",
       "0                                    7   \n",
       "1                                    1   \n",
       "2                                    0   \n",
       "3                                    0   \n",
       "4                                    0   \n",
       "...                                ...   \n",
       "20814                                1   \n",
       "20815                                1   \n",
       "20816                              744   \n",
       "20817                               14   \n",
       "20818                                3   \n",
       "\n",
       "      Plug-In Hybrid Electric Vehicles (PHEVs) Electric Vehicle (EV) Total  \\\n",
       "0                                            0                           7   \n",
       "1                                            2                           3   \n",
       "2                                            1                           1   \n",
       "3                                            0                           0   \n",
       "4                                            1                           1   \n",
       "...                                        ...                         ...   \n",
       "20814                                        0                           1   \n",
       "20815                                        0                           1   \n",
       "20816                                      350                       1,094   \n",
       "20817                                        2                          16   \n",
       "20818                                        1                           4   \n",
       "\n",
       "      Non-Electric Vehicle Total Total Vehicles  Percent Electric Vehicles  \n",
       "0                            460            467                       1.50  \n",
       "1                            188            191                       1.57  \n",
       "2                             32             33                       3.03  \n",
       "3                          3,575          3,575                       0.00  \n",
       "4                             83             84                       1.19  \n",
       "...                          ...            ...                        ...  \n",
       "20814                         14             15                       6.67  \n",
       "20815                         10             11                       9.09  \n",
       "20816                     62,257         63,351                       1.73  \n",
       "20817                      2,724          2,740                       0.58  \n",
       "20818                        271            275                       1.45  \n",
       "\n",
       "[20733 rows x 10 columns]"
      ]
     },
     "execution_count": 461,
     "metadata": {},
     "output_type": "execute_result"
    }
   ],
   "source": [
    "ev_df.dropna()"
   ]
  },
  {
   "cell_type": "code",
   "execution_count": 462,
   "metadata": {},
   "outputs": [
    {
     "data": {
      "text/plain": [
       "Index(['Date', 'County', 'State', 'Vehicle Primary Use',\n",
       "       'Battery Electric Vehicles (BEVs)',\n",
       "       'Plug-In Hybrid Electric Vehicles (PHEVs)',\n",
       "       'Electric Vehicle (EV) Total', 'Non-Electric Vehicle Total',\n",
       "       'Total Vehicles', 'Percent Electric Vehicles'],\n",
       "      dtype='object')"
      ]
     },
     "execution_count": 462,
     "metadata": {},
     "output_type": "execute_result"
    }
   ],
   "source": [
    "ev_df.columns"
   ]
  },
  {
   "cell_type": "code",
   "execution_count": 463,
   "metadata": {},
   "outputs": [
    {
     "data": {
      "text/plain": [
       "6092          May 31 2021\n",
       "17429    February 29 2020\n",
       "13014     January 31 2018\n",
       "1042      January 31 2019\n",
       "2461     December 31 2018\n",
       "1978      October 31 2017\n",
       "3695        April 30 2018\n",
       "9131      January 31 2019\n",
       "4400       August 31 2019\n",
       "8561      January 31 2024\n",
       "20465    December 31 2017\n",
       "12161        July 31 2019\n",
       "10790     October 31 2017\n",
       "7365     November 30 2018\n",
       "2780        April 30 2020\n",
       "17570    December 31 2018\n",
       "7386          May 31 2018\n",
       "2087        April 30 2020\n",
       "5484       August 31 2021\n",
       "20590        June 30 2022\n",
       "Name: Date, dtype: object"
      ]
     },
     "execution_count": 463,
     "metadata": {},
     "output_type": "execute_result"
    }
   ],
   "source": [
    "#cleaning by columns\n",
    "ev_df['Date'].sample(20)"
   ]
  },
  {
   "cell_type": "code",
   "execution_count": 464,
   "metadata": {},
   "outputs": [],
   "source": [
    "#split column 'Date'\n",
    "ev_df[['Month','Day','Year']] = ev_df['Date'].str.split(pat=' ', n=3, expand=True)"
   ]
  },
  {
   "cell_type": "code",
   "execution_count": 465,
   "metadata": {},
   "outputs": [
    {
     "data": {
      "text/html": [
       "<div>\n",
       "<style scoped>\n",
       "    .dataframe tbody tr th:only-of-type {\n",
       "        vertical-align: middle;\n",
       "    }\n",
       "\n",
       "    .dataframe tbody tr th {\n",
       "        vertical-align: top;\n",
       "    }\n",
       "\n",
       "    .dataframe thead th {\n",
       "        text-align: right;\n",
       "    }\n",
       "</style>\n",
       "<table border=\"1\" class=\"dataframe\">\n",
       "  <thead>\n",
       "    <tr style=\"text-align: right;\">\n",
       "      <th></th>\n",
       "      <th>Date</th>\n",
       "      <th>County</th>\n",
       "      <th>State</th>\n",
       "      <th>Vehicle Primary Use</th>\n",
       "      <th>Battery Electric Vehicles (BEVs)</th>\n",
       "      <th>Plug-In Hybrid Electric Vehicles (PHEVs)</th>\n",
       "      <th>Electric Vehicle (EV) Total</th>\n",
       "      <th>Non-Electric Vehicle Total</th>\n",
       "      <th>Total Vehicles</th>\n",
       "      <th>Percent Electric Vehicles</th>\n",
       "      <th>Month</th>\n",
       "      <th>Day</th>\n",
       "      <th>Year</th>\n",
       "    </tr>\n",
       "  </thead>\n",
       "  <tbody>\n",
       "    <tr>\n",
       "      <th>0</th>\n",
       "      <td>September 30 2022</td>\n",
       "      <td>Riverside</td>\n",
       "      <td>CA</td>\n",
       "      <td>Passenger</td>\n",
       "      <td>7</td>\n",
       "      <td>0</td>\n",
       "      <td>7</td>\n",
       "      <td>460</td>\n",
       "      <td>467</td>\n",
       "      <td>1.50</td>\n",
       "      <td>September</td>\n",
       "      <td>30</td>\n",
       "      <td>2022</td>\n",
       "    </tr>\n",
       "    <tr>\n",
       "      <th>1</th>\n",
       "      <td>December 31 2022</td>\n",
       "      <td>Prince William</td>\n",
       "      <td>VA</td>\n",
       "      <td>Passenger</td>\n",
       "      <td>1</td>\n",
       "      <td>2</td>\n",
       "      <td>3</td>\n",
       "      <td>188</td>\n",
       "      <td>191</td>\n",
       "      <td>1.57</td>\n",
       "      <td>December</td>\n",
       "      <td>31</td>\n",
       "      <td>2022</td>\n",
       "    </tr>\n",
       "    <tr>\n",
       "      <th>2</th>\n",
       "      <td>January 31 2020</td>\n",
       "      <td>Dakota</td>\n",
       "      <td>MN</td>\n",
       "      <td>Passenger</td>\n",
       "      <td>0</td>\n",
       "      <td>1</td>\n",
       "      <td>1</td>\n",
       "      <td>32</td>\n",
       "      <td>33</td>\n",
       "      <td>3.03</td>\n",
       "      <td>January</td>\n",
       "      <td>31</td>\n",
       "      <td>2020</td>\n",
       "    </tr>\n",
       "    <tr>\n",
       "      <th>3</th>\n",
       "      <td>June 30 2022</td>\n",
       "      <td>Ferry</td>\n",
       "      <td>WA</td>\n",
       "      <td>Truck</td>\n",
       "      <td>0</td>\n",
       "      <td>0</td>\n",
       "      <td>0</td>\n",
       "      <td>3,575</td>\n",
       "      <td>3,575</td>\n",
       "      <td>0.00</td>\n",
       "      <td>June</td>\n",
       "      <td>30</td>\n",
       "      <td>2022</td>\n",
       "    </tr>\n",
       "    <tr>\n",
       "      <th>4</th>\n",
       "      <td>July 31 2021</td>\n",
       "      <td>Douglas</td>\n",
       "      <td>CO</td>\n",
       "      <td>Passenger</td>\n",
       "      <td>0</td>\n",
       "      <td>1</td>\n",
       "      <td>1</td>\n",
       "      <td>83</td>\n",
       "      <td>84</td>\n",
       "      <td>1.19</td>\n",
       "      <td>July</td>\n",
       "      <td>31</td>\n",
       "      <td>2021</td>\n",
       "    </tr>\n",
       "    <tr>\n",
       "      <th>...</th>\n",
       "      <td>...</td>\n",
       "      <td>...</td>\n",
       "      <td>...</td>\n",
       "      <td>...</td>\n",
       "      <td>...</td>\n",
       "      <td>...</td>\n",
       "      <td>...</td>\n",
       "      <td>...</td>\n",
       "      <td>...</td>\n",
       "      <td>...</td>\n",
       "      <td>...</td>\n",
       "      <td>...</td>\n",
       "      <td>...</td>\n",
       "    </tr>\n",
       "    <tr>\n",
       "      <th>20814</th>\n",
       "      <td>January 31 2023</td>\n",
       "      <td>Rockingham</td>\n",
       "      <td>NH</td>\n",
       "      <td>Passenger</td>\n",
       "      <td>1</td>\n",
       "      <td>0</td>\n",
       "      <td>1</td>\n",
       "      <td>14</td>\n",
       "      <td>15</td>\n",
       "      <td>6.67</td>\n",
       "      <td>January</td>\n",
       "      <td>31</td>\n",
       "      <td>2023</td>\n",
       "    </tr>\n",
       "    <tr>\n",
       "      <th>20815</th>\n",
       "      <td>July 31 2020</td>\n",
       "      <td>Carson City</td>\n",
       "      <td>NV</td>\n",
       "      <td>Passenger</td>\n",
       "      <td>1</td>\n",
       "      <td>0</td>\n",
       "      <td>1</td>\n",
       "      <td>10</td>\n",
       "      <td>11</td>\n",
       "      <td>9.09</td>\n",
       "      <td>July</td>\n",
       "      <td>31</td>\n",
       "      <td>2020</td>\n",
       "    </tr>\n",
       "    <tr>\n",
       "      <th>20816</th>\n",
       "      <td>February 28 2022</td>\n",
       "      <td>Island</td>\n",
       "      <td>WA</td>\n",
       "      <td>Passenger</td>\n",
       "      <td>744</td>\n",
       "      <td>350</td>\n",
       "      <td>1,094</td>\n",
       "      <td>62,257</td>\n",
       "      <td>63,351</td>\n",
       "      <td>1.73</td>\n",
       "      <td>February</td>\n",
       "      <td>28</td>\n",
       "      <td>2022</td>\n",
       "    </tr>\n",
       "    <tr>\n",
       "      <th>20817</th>\n",
       "      <td>December 31 2020</td>\n",
       "      <td>San Diego</td>\n",
       "      <td>CA</td>\n",
       "      <td>Passenger</td>\n",
       "      <td>14</td>\n",
       "      <td>2</td>\n",
       "      <td>16</td>\n",
       "      <td>2,724</td>\n",
       "      <td>2,740</td>\n",
       "      <td>0.58</td>\n",
       "      <td>December</td>\n",
       "      <td>31</td>\n",
       "      <td>2020</td>\n",
       "    </tr>\n",
       "    <tr>\n",
       "      <th>20818</th>\n",
       "      <td>November 30 2019</td>\n",
       "      <td>Goochland</td>\n",
       "      <td>VA</td>\n",
       "      <td>Passenger</td>\n",
       "      <td>3</td>\n",
       "      <td>1</td>\n",
       "      <td>4</td>\n",
       "      <td>271</td>\n",
       "      <td>275</td>\n",
       "      <td>1.45</td>\n",
       "      <td>November</td>\n",
       "      <td>30</td>\n",
       "      <td>2019</td>\n",
       "    </tr>\n",
       "  </tbody>\n",
       "</table>\n",
       "<p>20819 rows × 13 columns</p>\n",
       "</div>"
      ],
      "text/plain": [
       "                    Date          County State Vehicle Primary Use  \\\n",
       "0      September 30 2022       Riverside    CA           Passenger   \n",
       "1       December 31 2022  Prince William    VA           Passenger   \n",
       "2        January 31 2020          Dakota    MN           Passenger   \n",
       "3           June 30 2022           Ferry    WA               Truck   \n",
       "4           July 31 2021         Douglas    CO           Passenger   \n",
       "...                  ...             ...   ...                 ...   \n",
       "20814    January 31 2023      Rockingham    NH           Passenger   \n",
       "20815       July 31 2020     Carson City    NV           Passenger   \n",
       "20816   February 28 2022          Island    WA           Passenger   \n",
       "20817   December 31 2020       San Diego    CA           Passenger   \n",
       "20818   November 30 2019       Goochland    VA           Passenger   \n",
       "\n",
       "      Battery Electric Vehicles (BEVs)  \\\n",
       "0                                    7   \n",
       "1                                    1   \n",
       "2                                    0   \n",
       "3                                    0   \n",
       "4                                    0   \n",
       "...                                ...   \n",
       "20814                                1   \n",
       "20815                                1   \n",
       "20816                              744   \n",
       "20817                               14   \n",
       "20818                                3   \n",
       "\n",
       "      Plug-In Hybrid Electric Vehicles (PHEVs) Electric Vehicle (EV) Total  \\\n",
       "0                                            0                           7   \n",
       "1                                            2                           3   \n",
       "2                                            1                           1   \n",
       "3                                            0                           0   \n",
       "4                                            1                           1   \n",
       "...                                        ...                         ...   \n",
       "20814                                        0                           1   \n",
       "20815                                        0                           1   \n",
       "20816                                      350                       1,094   \n",
       "20817                                        2                          16   \n",
       "20818                                        1                           4   \n",
       "\n",
       "      Non-Electric Vehicle Total Total Vehicles  Percent Electric Vehicles  \\\n",
       "0                            460            467                       1.50   \n",
       "1                            188            191                       1.57   \n",
       "2                             32             33                       3.03   \n",
       "3                          3,575          3,575                       0.00   \n",
       "4                             83             84                       1.19   \n",
       "...                          ...            ...                        ...   \n",
       "20814                         14             15                       6.67   \n",
       "20815                         10             11                       9.09   \n",
       "20816                     62,257         63,351                       1.73   \n",
       "20817                      2,724          2,740                       0.58   \n",
       "20818                        271            275                       1.45   \n",
       "\n",
       "           Month Day  Year  \n",
       "0      September  30  2022  \n",
       "1       December  31  2022  \n",
       "2        January  31  2020  \n",
       "3           June  30  2022  \n",
       "4           July  31  2021  \n",
       "...          ...  ..   ...  \n",
       "20814    January  31  2023  \n",
       "20815       July  31  2020  \n",
       "20816   February  28  2022  \n",
       "20817   December  31  2020  \n",
       "20818   November  30  2019  \n",
       "\n",
       "[20819 rows x 13 columns]"
      ]
     },
     "execution_count": 465,
     "metadata": {},
     "output_type": "execute_result"
    }
   ],
   "source": [
    "ev_df"
   ]
  },
  {
   "cell_type": "code",
   "execution_count": 466,
   "metadata": {},
   "outputs": [],
   "source": [
    "ev_df.drop(columns='Date', inplace=True)"
   ]
  },
  {
   "cell_type": "code",
   "execution_count": 467,
   "metadata": {},
   "outputs": [
    {
     "name": "stdout",
     "output_type": "stream",
     "text": [
      "<class 'pandas.core.frame.DataFrame'>\n",
      "RangeIndex: 20819 entries, 0 to 20818\n",
      "Data columns (total 12 columns):\n",
      " #   Column                                    Non-Null Count  Dtype  \n",
      "---  ------                                    --------------  -----  \n",
      " 0   County                                    20733 non-null  object \n",
      " 1   State                                     20733 non-null  object \n",
      " 2   Vehicle Primary Use                       20819 non-null  object \n",
      " 3   Battery Electric Vehicles (BEVs)          20819 non-null  object \n",
      " 4   Plug-In Hybrid Electric Vehicles (PHEVs)  20819 non-null  object \n",
      " 5   Electric Vehicle (EV) Total               20819 non-null  object \n",
      " 6   Non-Electric Vehicle Total                20819 non-null  object \n",
      " 7   Total Vehicles                            20819 non-null  object \n",
      " 8   Percent Electric Vehicles                 20819 non-null  float64\n",
      " 9   Month                                     20819 non-null  object \n",
      " 10  Day                                       20819 non-null  object \n",
      " 11  Year                                      20819 non-null  object \n",
      "dtypes: float64(1), object(11)\n",
      "memory usage: 1.9+ MB\n"
     ]
    }
   ],
   "source": [
    "ev_df.info()"
   ]
  },
  {
   "cell_type": "code",
   "execution_count": 468,
   "metadata": {},
   "outputs": [],
   "source": [
    "#Country\n",
    "ev_df.rename({'County':'Country'}, axis=1, inplace=True)"
   ]
  },
  {
   "cell_type": "code",
   "execution_count": 469,
   "metadata": {},
   "outputs": [
    {
     "data": {
      "text/plain": [
       "311"
      ]
     },
     "execution_count": 469,
     "metadata": {},
     "output_type": "execute_result"
    }
   ],
   "source": [
    "ev_df['Country'].nunique()"
   ]
  },
  {
   "cell_type": "code",
   "execution_count": 470,
   "metadata": {},
   "outputs": [
    {
     "data": {
      "text/plain": [
       "array(['Riverside', 'Prince William', 'Dakota', 'Ferry', 'Douglas',\n",
       "       'Maui', 'Northampton', 'Nassau', 'DeKalb', 'Columbia', 'Orleans',\n",
       "       'Ramsey', 'Manassas', 'Montgomery', 'Albemarle', 'Monroe',\n",
       "       'San Diego', 'Skamania', 'Washington', 'Sarpy', 'Owyhee',\n",
       "       'Clinton', 'Yakima', 'Virginia Beach', 'Sedgwick', 'Kittitas',\n",
       "       'Asotin', 'San Francisco', 'Charles', 'Richmond', 'Carson City',\n",
       "       'Santa Clara', 'Harris', 'King', 'Suffolk', 'Clallam', 'Clay',\n",
       "       'El Paso', 'Harford', 'Franklin', 'Burlington', 'Kings',\n",
       "       'Washtenaw', 'Whatcom', 'Whitman', 'Stevens', 'Benton', 'Kern',\n",
       "       'Grant', 'Nueces', 'Jackson', 'Polk', 'Powhatan', 'Anne Arundel',\n",
       "       'Pacific', 'San Mateo', 'Ventura', 'Klamath', 'Hamilton', 'Meade',\n",
       "       'Placer', 'Larimer', 'Fairbanks North Star', 'Clark', 'Bexar',\n",
       "       'Manatee', 'Williamson', 'Flathead', 'Lumpkin', 'Mason',\n",
       "       'Providence', 'Hardin', 'Charleston', 'Santa Cruz', 'Hawaii',\n",
       "       'Kootenai', 'Sumter', 'Dallas', 'Lake', 'Spokane', 'Los Angeles',\n",
       "       'Maricopa', 'Solano', 'Gwinnett', 'Madison', 'Snohomish', 'Lewis',\n",
       "       'Garfield', 'Walla Walla', 'St. Clair', nan, 'Allen', 'Bryan',\n",
       "       'Adams', 'Jefferson', 'Alameda', 'Skagit', 'Escambia', 'Cook',\n",
       "       'Pima', 'Williams', 'Lee', 'Dorchester', 'Leavenworth', 'Fairfax',\n",
       "       'Norfolk', 'Portsmouth', 'San Juan', 'Spartanburg', 'Brevard',\n",
       "       'Las Animas', 'Okanogan', 'Calvert', 'Multnomah', 'Marion',\n",
       "       'Washoe', 'Carroll', 'Middlesex', 'Island', 'Berkeley', 'Ulster',\n",
       "       'Osceola', 'Randolph', 'Duval', 'Lane', 'Kitsap', 'Putnam',\n",
       "       'Chelan', 'Denver', 'Yolo', 'Juneau', 'Grays Harbor', 'Palm Beach',\n",
       "       'San Luis Obispo', 'Thurston', 'York', 'Newport News', 'Onslow',\n",
       "       'Parker', 'Ray', 'Alexandria', 'Platte', 'Tulsa', 'Marin',\n",
       "       'Lincoln', 'Harnett', 'Tarrant', 'Boone', 'Monterey',\n",
       "       'Mecklenburg', 'Howard', 'Oldham', 'Utah', 'Volusia', 'Yuba',\n",
       "       'Orange', 'Jones', 'Contra Costa', 'Goochland', 'DuPage',\n",
       "       'Broward', 'Hennepin', 'Guadalupe', 'Rockdale', 'Klickitat',\n",
       "       'Saginaw', 'Sangamon', 'Hillsborough', 'Pend Oreille', 'Bell',\n",
       "       'Stafford', 'Ada', 'Houston', 'New London', 'Shelby', 'Pierce',\n",
       "       'Pulaski', 'Moore', 'Salt Lake', 'Loudoun', 'Allegheny', 'Wilson',\n",
       "       'Okaloosa', 'San Joaquin', 'Cumberland', 'Arapahoe', 'Morris',\n",
       "       'District of Columbia', 'Philadelphia', 'Plaquemines', 'Kent',\n",
       "       'Sacramento', 'El Dorado', 'Sarasota', 'Boulder', 'Cochise',\n",
       "       'James City', 'Tulare', 'St. Louis', 'Richland', 'Deschutes',\n",
       "       'Wahkiakum', 'Bartow', 'Prince George', 'Kalamazoo', 'Napa',\n",
       "       'Essex', 'Canyon', 'Denton', 'Fulton', 'Santa Rosa', 'Cowlitz',\n",
       "       'Harrison', 'Rogers', 'Hudson', 'Anchorage', 'RÃ\\xado Grande',\n",
       "       'Galveston', 'Mercer', 'Saratoga', 'Shasta', 'Milwaukee',\n",
       "       'St. Lucie', 'Sevier', 'Caddo', 'Yellowstone', 'Honolulu',\n",
       "       'San Bernardino', \"St. Mary's\", 'Wake', 'Rock Island', 'Sonoma',\n",
       "       'Newport', 'Collin', 'Santa Fe', 'Camden', 'Williamsburg',\n",
       "       'Valencia', 'Guilford', 'Pinal', 'Collier', 'Arlington', 'Eagle',\n",
       "       'Kauai', 'Travis', 'New Haven', 'Geary', 'Pennington', 'Muscogee',\n",
       "       'Yamhill', 'Vigo', 'Missoula', \"Prince George's\", 'Dale',\n",
       "       'Coryell', 'Bucks', 'Queens', 'Beaufort', 'Fresno', 'Wichita',\n",
       "       'Chesapeake', 'Sheridan', 'Cascade', 'Currituck', 'Danville',\n",
       "       'Greene', 'Pitt', 'Clackamas', 'Cobb', 'Louisa', 'Frederick',\n",
       "       'Autauga', 'Henrico', 'Twin Falls', 'Mobile', 'Yavapai',\n",
       "       'Fort Bend', 'Champaign', 'Miami-Dade', 'Hampshire', 'New York',\n",
       "       'Penobscot', 'Pinellas', 'Oklahoma', 'Hidalgo', 'Charlottesville',\n",
       "       'Otero', 'Durham', 'Atlantic', 'Wood', 'Wayne', 'Bergen',\n",
       "       'Bradley', 'Rockingham', 'St. Lawrence', 'Shoshone', 'Latah',\n",
       "       'Eau Claire', 'Tooele', 'Baltimore', 'Nantucket', 'Berkshire',\n",
       "       'Texas', 'Hood River', 'Dane', 'Laramie', 'Santa Barbara',\n",
       "       'Spotsylvania', 'Worcester', 'Union', 'Bernalillo', 'Brown'],\n",
       "      dtype=object)"
      ]
     },
     "execution_count": 470,
     "metadata": {},
     "output_type": "execute_result"
    }
   ],
   "source": [
    "ev_df['Country'].unique()"
   ]
  },
  {
   "cell_type": "code",
   "execution_count": 471,
   "metadata": {},
   "outputs": [
    {
     "data": {
      "text/plain": [
       "50"
      ]
     },
     "execution_count": 471,
     "metadata": {},
     "output_type": "execute_result"
    }
   ],
   "source": [
    "ev_df['State'].nunique()"
   ]
  },
  {
   "cell_type": "code",
   "execution_count": 472,
   "metadata": {},
   "outputs": [
    {
     "data": {
      "text/plain": [
       "array(['CA', 'VA', 'MN', 'WA', 'CO', 'HI', 'PA', 'NY', 'IN', 'LA', 'AL',\n",
       "       'IL', 'OR', 'NE', 'ID', 'KS', 'MD', 'NV', 'TX', 'FL', 'NJ', 'MI',\n",
       "       'MO', 'KY', 'AK', 'MT', 'GA', 'RI', 'SC', 'IA', 'AZ', nan, 'ND',\n",
       "       'MA', 'NH', 'OH', 'NC', 'TN', 'OK', 'UT', 'CT', 'AR', 'DC', 'MS',\n",
       "       'PR', 'WI', 'NM', 'SD', 'WY', 'DE', 'ME'], dtype=object)"
      ]
     },
     "execution_count": 472,
     "metadata": {},
     "output_type": "execute_result"
    }
   ],
   "source": [
    "ev_df['State'].unique()"
   ]
  },
  {
   "cell_type": "code",
   "execution_count": 473,
   "metadata": {},
   "outputs": [
    {
     "data": {
      "text/plain": [
       "array(['Passenger', 'Truck'], dtype=object)"
      ]
     },
     "execution_count": 473,
     "metadata": {},
     "output_type": "execute_result"
    }
   ],
   "source": [
    "ev_df['Vehicle Primary Use'].unique()\n"
   ]
  },
  {
   "cell_type": "code",
   "execution_count": 474,
   "metadata": {},
   "outputs": [
    {
     "data": {
      "text/plain": [
       "1209"
      ]
     },
     "execution_count": 474,
     "metadata": {},
     "output_type": "execute_result"
    }
   ],
   "source": [
    "ev_df['Battery Electric Vehicles (BEVs)'].nunique()"
   ]
  },
  {
   "cell_type": "code",
   "execution_count": 475,
   "metadata": {},
   "outputs": [
    {
     "data": {
      "text/plain": [
       "14450      1\n",
       "17313    125\n",
       "18944      2\n",
       "12961      3\n",
       "15328      0\n",
       "8128       2\n",
       "3940       0\n",
       "7382       1\n",
       "4664      43\n",
       "6369       7\n",
       "17570      0\n",
       "3596       2\n",
       "20358      1\n",
       "11930      0\n",
       "15595     75\n",
       "4403       1\n",
       "20654      1\n",
       "4200       0\n",
       "676        0\n",
       "4421       0\n",
       "Name: Battery Electric Vehicles (BEVs), dtype: object"
      ]
     },
     "execution_count": 475,
     "metadata": {},
     "output_type": "execute_result"
    }
   ],
   "source": [
    "ev_df['Battery Electric Vehicles (BEVs)'].sample(20)"
   ]
  },
  {
   "cell_type": "code",
   "execution_count": 476,
   "metadata": {},
   "outputs": [],
   "source": [
    "ev_df['Battery Electric Vehicles (BEVs)'] = ev_df['Battery Electric Vehicles (BEVs)'].str.replace(\",\",\"\")"
   ]
  },
  {
   "cell_type": "code",
   "execution_count": 477,
   "metadata": {},
   "outputs": [
    {
     "data": {
      "text/plain": [
       "10969        1\n",
       "17447        1\n",
       "2217         1\n",
       "12765        1\n",
       "5657     10924\n",
       "7408        42\n",
       "9855         1\n",
       "338          0\n",
       "18056        1\n",
       "13294        0\n",
       "4478         2\n",
       "10462        2\n",
       "11089        2\n",
       "499          0\n",
       "19724        2\n",
       "15320        1\n",
       "19807        4\n",
       "6065         0\n",
       "11802        1\n",
       "1337       100\n",
       "Name: Battery Electric Vehicles (BEVs), dtype: object"
      ]
     },
     "execution_count": 477,
     "metadata": {},
     "output_type": "execute_result"
    }
   ],
   "source": [
    "ev_df['Battery Electric Vehicles (BEVs)'].sample(20)"
   ]
  },
  {
   "cell_type": "code",
   "execution_count": 478,
   "metadata": {},
   "outputs": [],
   "source": [
    "ev_df['Battery Electric Vehicles (BEVs)'] = pd.to_numeric(ev_df['Battery Electric Vehicles (BEVs)'])"
   ]
  },
  {
   "cell_type": "code",
   "execution_count": 479,
   "metadata": {},
   "outputs": [
    {
     "name": "stdout",
     "output_type": "stream",
     "text": [
      "<class 'pandas.core.frame.DataFrame'>\n",
      "RangeIndex: 20819 entries, 0 to 20818\n",
      "Data columns (total 12 columns):\n",
      " #   Column                                    Non-Null Count  Dtype  \n",
      "---  ------                                    --------------  -----  \n",
      " 0   Country                                   20733 non-null  object \n",
      " 1   State                                     20733 non-null  object \n",
      " 2   Vehicle Primary Use                       20819 non-null  object \n",
      " 3   Battery Electric Vehicles (BEVs)          20819 non-null  int64  \n",
      " 4   Plug-In Hybrid Electric Vehicles (PHEVs)  20819 non-null  object \n",
      " 5   Electric Vehicle (EV) Total               20819 non-null  object \n",
      " 6   Non-Electric Vehicle Total                20819 non-null  object \n",
      " 7   Total Vehicles                            20819 non-null  object \n",
      " 8   Percent Electric Vehicles                 20819 non-null  float64\n",
      " 9   Month                                     20819 non-null  object \n",
      " 10  Day                                       20819 non-null  object \n",
      " 11  Year                                      20819 non-null  object \n",
      "dtypes: float64(1), int64(1), object(10)\n",
      "memory usage: 1.9+ MB\n"
     ]
    }
   ],
   "source": [
    "ev_df.info()"
   ]
  },
  {
   "cell_type": "code",
   "execution_count": 480,
   "metadata": {},
   "outputs": [
    {
     "data": {
      "text/plain": [
       "935"
      ]
     },
     "execution_count": 480,
     "metadata": {},
     "output_type": "execute_result"
    }
   ],
   "source": [
    "ev_df['Plug-In Hybrid Electric Vehicles (PHEVs)'].nunique()"
   ]
  },
  {
   "cell_type": "code",
   "execution_count": 481,
   "metadata": {},
   "outputs": [
    {
     "data": {
      "text/plain": [
       "array(['0', '2', '1', '6', '14', '78', '673', '86', '43', '34', '179',\n",
       "       '68', '65', '4', '44', '122', '464', '9', '40', '3', '61', '21',\n",
       "       '5', '59', '326', '12', '170', '2,195', '225', '112', '453', '7',\n",
       "       '26', '39', '48', '128', '131', '414', '53', '120', '1,373', '74',\n",
       "       '141', '30', '133', '629', '173', '982', '23', '385', '194', '8',\n",
       "       '73', '234', '1,098', '103', '67', '82', '214', '91', '35',\n",
       "       '7,812', '142', '17', '184', '166', '124', '216', '99', '638',\n",
       "       '106', '75', '308', '117', '88', '167', '383', '2,025', '180',\n",
       "       '139', '612', '200', '28', '58', '377', '56', '238', '71', '1,018',\n",
       "       '488', '433', '1,415', '107', '651', '121', '534', '1,055', '55',\n",
       "       '257', '153', '1,040', '199', '135', '24', '33', '158', '27',\n",
       "       '394', '193', '412', '70', '18', '206', '1,806', '15', '1,634',\n",
       "       '93', '130', '197', '646', '16', '77', '1,650', '46', '255', '11',\n",
       "       '1,132', '224', '198', '113', '289', '155', '259', '1,100', '208',\n",
       "       '32', '248', '329', '897', '20', '1,158', '3,314', '407', '126',\n",
       "       '217', '3,191', '94', '22', '1,378', '76', '176', '189', '486',\n",
       "       '262', '115', '79', '260', '181', '127', '57', '37', '195', '279',\n",
       "       '963', '317', '100', '13', '16,519', '95', '2,072', '758', '6,947',\n",
       "       '388', '1,125', '703', '7,754', '496', '161', '1,050', '1,572',\n",
       "       '185', '169', '69', '334', '190', '3,486', '154', '168', '157',\n",
       "       '1,851', '10', '2,227', '315', '891', '211', '49', '369', '512',\n",
       "       '118', '62', '254', '97', '149', '202', '1,422', '441', '611',\n",
       "       '7,618', '871', '287', '90', '81', '1,844', '575', '125', '1,019',\n",
       "       '138', '2,233', '235', '302', '52', '2,626', '735', '156', '210',\n",
       "       '147', '1,124', '807', '111', '223', '104', '123', '261', '215',\n",
       "       '163', '19', '41', '278', '868', '246', '864', '251', '340', '435',\n",
       "       '3,638', '7,541', '109', '101', '50', '582', '1,485', '80', '63',\n",
       "       '380', '378', '64', '989', '105', '98', '507', '218', '134', '172',\n",
       "       '6,397', '1,683', '42', '397', '660', '87', '132', '3,394',\n",
       "       '2,893', '446', '72', '207', '8,920', '243', '1,691', '342',\n",
       "       '7,694', '421', '221', '1,408', '1,283', '450', '2,673', '301',\n",
       "       '196', '652', '2,530', '220', '645', '4,172', '11,906', '66', '45',\n",
       "       '832', '472', '1,750', '36', '240', '1,764', '597', '294', '699',\n",
       "       '159', '2,838', '47', '263', '102', '137', '560', '129', '150',\n",
       "       '1,583', '2,217', '145', '362', '1,570', '499', '151', '2,580',\n",
       "       '463', '164', '38', '8,169', '1,512', '5,018', '249', '85', '110',\n",
       "       '2,065', '1,191', '165', '7,455', '866', '174', '119', '1,922',\n",
       "       '108', '820', '824', '778', '4,102', '152', '321', '83', '247',\n",
       "       '241', '1,140', '244', '31', '1,519', '841', '784', '1,365', '328',\n",
       "       '232', '175', '2,715', '1,193', '684', '752', '5,937', '1,781',\n",
       "       '2,230', '1,892', '204', '641', '910', '268', '322', '3,066',\n",
       "       '1,033', '436', '766', '146', '177', '2,562', '51', '676', '54',\n",
       "       '143', '226', '770', '1,770', '312', '1,902', '1,056', '968',\n",
       "       '572', '848', '599', '258', '1,084', '799', '144', '1,391', '205',\n",
       "       '318', '3,142', '2,287', '379', '765', '471', '348', '1,044',\n",
       "       '12,035', '588', '810', '952', '2,545', '1,329', '1,267', '11,629',\n",
       "       '729', '316', '370', '84', '477', '13,150', '803', '236', '589',\n",
       "       '1,339', '455', '319', '2,837', '905', '1,703', '333', '209',\n",
       "       '114', '490', '256', '140', '479', '454', '467', '96', '29',\n",
       "       '2,908', '1,756', '183', '349', '492', '285', '914', '760',\n",
       "       '11,043', '297', '678', '504', '212', '358', '92', '571', '1,996',\n",
       "       '402', '5,801', '956', '393', '222', '423', '1,403', '3,227',\n",
       "       '2,979', '685', '219', '182', '367', '12,802', '320', '14,686',\n",
       "       '336', '242', '460', '578', '136', '927', '974', '273', '148',\n",
       "       '1,821', '418', '427', '116', '1,300', '2,122', '764', '6,870',\n",
       "       '727', '556', '10,699', '776', '371', '1,846', '633', '271', '350',\n",
       "       '1,705', '657', '186', '2,361', '920', '1,739', '520', '573',\n",
       "       '1,194', '1,814', '605', '857', '2,306', '1,682', '686', '2,525',\n",
       "       '1,058', '1,108', '814', '904', '469', '1,616', '230', '696',\n",
       "       '15,766', '372', '313', '6,078', '359', '7,111', '480', '737',\n",
       "       '389', '448', '919', '171', '60', '160', '10,819', '25', '451',\n",
       "       '2,162', '1,294', '3,712', '250', '431', '1,509', '576', '2,173',\n",
       "       '618', '10,085', '187', '1,505', '3,121', '1,177', '473', '524',\n",
       "       '13,758', '178', '1,639', '227', '228', '253', '9,910', '6,529',\n",
       "       '295', '346', '542', '2,098', '2,592', '7,012', '2,425', '939',\n",
       "       '779', '339', '1,674', '12,503', '700', '4,877', '1,059', '1,598',\n",
       "       '569', '1,093', '1,560', '272', '276', '282', '1,660', '1,065',\n",
       "       '7,893', '470', '1,261', '401', '1,245', '695', '300', '1,464',\n",
       "       '1,450', '274', '1,423', '1,437', '1,306', '345', '6,220',\n",
       "       '15,387', '2,135', '9,165', '10,398', '89', '3,679', '624', '252',\n",
       "       '1,886', '2,276', '2,046', '290', '1,976', '596', '748', '2,080',\n",
       "       '751', '231', '1,484', '291', '355', '525', '2,338', '1,680',\n",
       "       '1,168', '484', '724', '1,929', '245', '456', '1,028', '267',\n",
       "       '366', '833', '649', '549', '3,070', '229', '434', '1,198', '310',\n",
       "       '275', '898', '1,195', '299', '162', '980', '2,596', '551',\n",
       "       '7,281', '2,707', '550', '1,359', '306', '5,677', '1,728', '281',\n",
       "       '945', '2,149', '960', '630', '8,446', '6,778', '564', '5,479',\n",
       "       '948', '461', '983', '213', '352', '1,091', '1,316', '2,789',\n",
       "       '426', '661', '743', '325', '288', '1,027', '717', '2,334',\n",
       "       '1,114', '656', '3,552', '2,000', '445', '1,159', '592', '1,026',\n",
       "       '188', '1,143', '1,229', '3,620', '1,238', '303', '444', '851',\n",
       "       '754', '1,965', '309', '2,027', '280', '8,322', '2,665', '6,677',\n",
       "       '1,053', '14,208', '860', '1,809', '439', '2,713', '999', '9,685',\n",
       "       '712', '1,152', '1,141', '483', '4,683', '365', '9,549', '17,194',\n",
       "       '307', '265', '526', '985', '1,456', '354', '1,498', '671',\n",
       "       '3,881', '2,105', '1,789', '674', '744', '902', '719', '2,508',\n",
       "       '11,439', '1,428', '881', '889', '1,013', '522', '1,144', '356',\n",
       "       '1,442', '3,989', '2,760', '8,010', '1,061', '1,418', '531',\n",
       "       '1,072', '932', '558', '1,471', '1,678', '8,751', '907', '2,160',\n",
       "       '831', '1,780', '1,173', '1,222', '270', '916', '2,417', '500',\n",
       "       '698', '5,151', '1,341', '2,444', '2,627', '1,224', '1,940',\n",
       "       '1,118', '561', '798', '10,217', '239', '559', '528', '1,030',\n",
       "       '16,311', '869', '373', '762', '7,686', '1,310', '17,501', '8,565',\n",
       "       '933', '718', '5,289', '269', '6,761', '2,286', '1,241', '428',\n",
       "       '830', '544', '1,005', '3,241', '1,121', '1,696', '755', '2,472',\n",
       "       '191', '1,874', '1,747', '16,120', '1,324', '374', '2,667', '324',\n",
       "       '432', '941', '381', '1,530', '972', '1,628', '391', '2,106',\n",
       "       '1,457', '2,310', '1,654', '516', '886', '1,109', '9,347', '7,201',\n",
       "       '593', '7,390', '264', '1,429', '1,063', '2,014', '7,718', '1,256',\n",
       "       '1,593', '1,734', '409', '11,306', '625', '2,621', '404', '8,081',\n",
       "       '628', '842', '1,251', '284', '2,792', '859', '237', '498',\n",
       "       '1,709', '517', '882', '4,613', '1,305', '823', '2,259', '10,518',\n",
       "       '344', '2,385', '1,708', '1,292', '2,929', '732', '1,488', '2,435',\n",
       "       '942', '996', '1,601', '478', '1,534', '915', '2,395', '1,717',\n",
       "       '7,710', '462', '11,776', '14,949', '1,017', '602', '296', '4,348',\n",
       "       '1,076', '1,212', '422', '1,367', '736', '4,265', '298', '856',\n",
       "       '481', '1,539', '1,180', '1,774', '1,755', '2,990', '4,481',\n",
       "       '1,014', '1,555', '12,236', '812', '880', '1,004', '1,211', '468',\n",
       "       '654', '647', '566', '337', '1,066', '2,499', '616', '3,786',\n",
       "       '584', '489', '837', '795', '1,276', '7,673', '1,569', '547',\n",
       "       '363', '3,230', '998', '332', '386'], dtype=object)"
      ]
     },
     "execution_count": 481,
     "metadata": {},
     "output_type": "execute_result"
    }
   ],
   "source": [
    "ev_df['Plug-In Hybrid Electric Vehicles (PHEVs)'].unique()"
   ]
  },
  {
   "cell_type": "code",
   "execution_count": 482,
   "metadata": {},
   "outputs": [],
   "source": [
    "ev_df['Plug-In Hybrid Electric Vehicles (PHEVs)'] = ev_df['Plug-In Hybrid Electric Vehicles (PHEVs)'].str.replace(',','')"
   ]
  },
  {
   "cell_type": "code",
   "execution_count": 483,
   "metadata": {},
   "outputs": [
    {
     "data": {
      "text/plain": [
       "array(['0', '2', '1', '6', '14', '78', '673', '86', '43', '34', '179',\n",
       "       '68', '65', '4', '44', '122', '464', '9', '40', '3', '61', '21',\n",
       "       '5', '59', '326', '12', '170', '2195', '225', '112', '453', '7',\n",
       "       '26', '39', '48', '128', '131', '414', '53', '120', '1373', '74',\n",
       "       '141', '30', '133', '629', '173', '982', '23', '385', '194', '8',\n",
       "       '73', '234', '1098', '103', '67', '82', '214', '91', '35', '7812',\n",
       "       '142', '17', '184', '166', '124', '216', '99', '638', '106', '75',\n",
       "       '308', '117', '88', '167', '383', '2025', '180', '139', '612',\n",
       "       '200', '28', '58', '377', '56', '238', '71', '1018', '488', '433',\n",
       "       '1415', '107', '651', '121', '534', '1055', '55', '257', '153',\n",
       "       '1040', '199', '135', '24', '33', '158', '27', '394', '193', '412',\n",
       "       '70', '18', '206', '1806', '15', '1634', '93', '130', '197', '646',\n",
       "       '16', '77', '1650', '46', '255', '11', '1132', '224', '198', '113',\n",
       "       '289', '155', '259', '1100', '208', '32', '248', '329', '897',\n",
       "       '20', '1158', '3314', '407', '126', '217', '3191', '94', '22',\n",
       "       '1378', '76', '176', '189', '486', '262', '115', '79', '260',\n",
       "       '181', '127', '57', '37', '195', '279', '963', '317', '100', '13',\n",
       "       '16519', '95', '2072', '758', '6947', '388', '1125', '703', '7754',\n",
       "       '496', '161', '1050', '1572', '185', '169', '69', '334', '190',\n",
       "       '3486', '154', '168', '157', '1851', '10', '2227', '315', '891',\n",
       "       '211', '49', '369', '512', '118', '62', '254', '97', '149', '202',\n",
       "       '1422', '441', '611', '7618', '871', '287', '90', '81', '1844',\n",
       "       '575', '125', '1019', '138', '2233', '235', '302', '52', '2626',\n",
       "       '735', '156', '210', '147', '1124', '807', '111', '223', '104',\n",
       "       '123', '261', '215', '163', '19', '41', '278', '868', '246', '864',\n",
       "       '251', '340', '435', '3638', '7541', '109', '101', '50', '582',\n",
       "       '1485', '80', '63', '380', '378', '64', '989', '105', '98', '507',\n",
       "       '218', '134', '172', '6397', '1683', '42', '397', '660', '87',\n",
       "       '132', '3394', '2893', '446', '72', '207', '8920', '243', '1691',\n",
       "       '342', '7694', '421', '221', '1408', '1283', '450', '2673', '301',\n",
       "       '196', '652', '2530', '220', '645', '4172', '11906', '66', '45',\n",
       "       '832', '472', '1750', '36', '240', '1764', '597', '294', '699',\n",
       "       '159', '2838', '47', '263', '102', '137', '560', '129', '150',\n",
       "       '1583', '2217', '145', '362', '1570', '499', '151', '2580', '463',\n",
       "       '164', '38', '8169', '1512', '5018', '249', '85', '110', '2065',\n",
       "       '1191', '165', '7455', '866', '174', '119', '1922', '108', '820',\n",
       "       '824', '778', '4102', '152', '321', '83', '247', '241', '1140',\n",
       "       '244', '31', '1519', '841', '784', '1365', '328', '232', '175',\n",
       "       '2715', '1193', '684', '752', '5937', '1781', '2230', '1892',\n",
       "       '204', '641', '910', '268', '322', '3066', '1033', '436', '766',\n",
       "       '146', '177', '2562', '51', '676', '54', '143', '226', '770',\n",
       "       '1770', '312', '1902', '1056', '968', '572', '848', '599', '258',\n",
       "       '1084', '799', '144', '1391', '205', '318', '3142', '2287', '379',\n",
       "       '765', '471', '348', '1044', '12035', '588', '810', '952', '2545',\n",
       "       '1329', '1267', '11629', '729', '316', '370', '84', '477', '13150',\n",
       "       '803', '236', '589', '1339', '455', '319', '2837', '905', '1703',\n",
       "       '333', '209', '114', '490', '256', '140', '479', '454', '467',\n",
       "       '96', '29', '2908', '1756', '183', '349', '492', '285', '914',\n",
       "       '760', '11043', '297', '678', '504', '212', '358', '92', '571',\n",
       "       '1996', '402', '5801', '956', '393', '222', '423', '1403', '3227',\n",
       "       '2979', '685', '219', '182', '367', '12802', '320', '14686', '336',\n",
       "       '242', '460', '578', '136', '927', '974', '273', '148', '1821',\n",
       "       '418', '427', '116', '1300', '2122', '764', '6870', '727', '556',\n",
       "       '10699', '776', '371', '1846', '633', '271', '350', '1705', '657',\n",
       "       '186', '2361', '920', '1739', '520', '573', '1194', '1814', '605',\n",
       "       '857', '2306', '1682', '686', '2525', '1058', '1108', '814', '904',\n",
       "       '469', '1616', '230', '696', '15766', '372', '313', '6078', '359',\n",
       "       '7111', '480', '737', '389', '448', '919', '171', '60', '160',\n",
       "       '10819', '25', '451', '2162', '1294', '3712', '250', '431', '1509',\n",
       "       '576', '2173', '618', '10085', '187', '1505', '3121', '1177',\n",
       "       '473', '524', '13758', '178', '1639', '227', '228', '253', '9910',\n",
       "       '6529', '295', '346', '542', '2098', '2592', '7012', '2425', '939',\n",
       "       '779', '339', '1674', '12503', '700', '4877', '1059', '1598',\n",
       "       '569', '1093', '1560', '272', '276', '282', '1660', '1065', '7893',\n",
       "       '470', '1261', '401', '1245', '695', '300', '1464', '1450', '274',\n",
       "       '1423', '1437', '1306', '345', '6220', '15387', '2135', '9165',\n",
       "       '10398', '89', '3679', '624', '252', '1886', '2276', '2046', '290',\n",
       "       '1976', '596', '748', '2080', '751', '231', '1484', '291', '355',\n",
       "       '525', '2338', '1680', '1168', '484', '724', '1929', '245', '456',\n",
       "       '1028', '267', '366', '833', '649', '549', '3070', '229', '434',\n",
       "       '1198', '310', '275', '898', '1195', '299', '162', '980', '2596',\n",
       "       '551', '7281', '2707', '550', '1359', '306', '5677', '1728', '281',\n",
       "       '945', '2149', '960', '630', '8446', '6778', '564', '5479', '948',\n",
       "       '461', '983', '213', '352', '1091', '1316', '2789', '426', '661',\n",
       "       '743', '325', '288', '1027', '717', '2334', '1114', '656', '3552',\n",
       "       '2000', '445', '1159', '592', '1026', '188', '1143', '1229',\n",
       "       '3620', '1238', '303', '444', '851', '754', '1965', '309', '2027',\n",
       "       '280', '8322', '2665', '6677', '1053', '14208', '860', '1809',\n",
       "       '439', '2713', '999', '9685', '712', '1152', '1141', '483', '4683',\n",
       "       '365', '9549', '17194', '307', '265', '526', '985', '1456', '354',\n",
       "       '1498', '671', '3881', '2105', '1789', '674', '744', '902', '719',\n",
       "       '2508', '11439', '1428', '881', '889', '1013', '522', '1144',\n",
       "       '356', '1442', '3989', '2760', '8010', '1061', '1418', '531',\n",
       "       '1072', '932', '558', '1471', '1678', '8751', '907', '2160', '831',\n",
       "       '1780', '1173', '1222', '270', '916', '2417', '500', '698', '5151',\n",
       "       '1341', '2444', '2627', '1224', '1940', '1118', '561', '798',\n",
       "       '10217', '239', '559', '528', '1030', '16311', '869', '373', '762',\n",
       "       '7686', '1310', '17501', '8565', '933', '718', '5289', '269',\n",
       "       '6761', '2286', '1241', '428', '830', '544', '1005', '3241',\n",
       "       '1121', '1696', '755', '2472', '191', '1874', '1747', '16120',\n",
       "       '1324', '374', '2667', '324', '432', '941', '381', '1530', '972',\n",
       "       '1628', '391', '2106', '1457', '2310', '1654', '516', '886',\n",
       "       '1109', '9347', '7201', '593', '7390', '264', '1429', '1063',\n",
       "       '2014', '7718', '1256', '1593', '1734', '409', '11306', '625',\n",
       "       '2621', '404', '8081', '628', '842', '1251', '284', '2792', '859',\n",
       "       '237', '498', '1709', '517', '882', '4613', '1305', '823', '2259',\n",
       "       '10518', '344', '2385', '1708', '1292', '2929', '732', '1488',\n",
       "       '2435', '942', '996', '1601', '478', '1534', '915', '2395', '1717',\n",
       "       '7710', '462', '11776', '14949', '1017', '602', '296', '4348',\n",
       "       '1076', '1212', '422', '1367', '736', '4265', '298', '856', '481',\n",
       "       '1539', '1180', '1774', '1755', '2990', '4481', '1014', '1555',\n",
       "       '12236', '812', '880', '1004', '1211', '468', '654', '647', '566',\n",
       "       '337', '1066', '2499', '616', '3786', '584', '489', '837', '795',\n",
       "       '1276', '7673', '1569', '547', '363', '3230', '998', '332', '386'],\n",
       "      dtype=object)"
      ]
     },
     "execution_count": 483,
     "metadata": {},
     "output_type": "execute_result"
    }
   ],
   "source": [
    "ev_df['Plug-In Hybrid Electric Vehicles (PHEVs)'].unique()"
   ]
  },
  {
   "cell_type": "code",
   "execution_count": 484,
   "metadata": {},
   "outputs": [],
   "source": [
    "ev_df['Plug-In Hybrid Electric Vehicles (PHEVs)'] = pd.to_numeric(ev_df['Plug-In Hybrid Electric Vehicles (PHEVs)'])\n"
   ]
  },
  {
   "cell_type": "code",
   "execution_count": 485,
   "metadata": {},
   "outputs": [
    {
     "data": {
      "text/plain": [
       "1409"
      ]
     },
     "execution_count": 485,
     "metadata": {},
     "output_type": "execute_result"
    }
   ],
   "source": [
    "ev_df['Electric Vehicle (EV) Total'].nunique()"
   ]
  },
  {
   "cell_type": "code",
   "execution_count": 486,
   "metadata": {},
   "outputs": [
    {
     "data": {
      "text/plain": [
       "array(['7', '3', '1', ..., '866', '991', '1,094'], dtype=object)"
      ]
     },
     "execution_count": 486,
     "metadata": {},
     "output_type": "execute_result"
    }
   ],
   "source": [
    "ev_df['Electric Vehicle (EV) Total'].unique()"
   ]
  },
  {
   "cell_type": "code",
   "execution_count": 487,
   "metadata": {},
   "outputs": [],
   "source": [
    "#replacing , with '' in column\n",
    "ev_df['Electric Vehicle (EV) Total'] = ev_df['Electric Vehicle (EV) Total'].str.replace(',','')"
   ]
  },
  {
   "cell_type": "code",
   "execution_count": 488,
   "metadata": {},
   "outputs": [],
   "source": [
    "#changing dtype from object to numeric\n",
    "ev_df['Electric Vehicle (EV) Total'] = pd.to_numeric(ev_df['Electric Vehicle (EV) Total'])"
   ]
  },
  {
   "cell_type": "code",
   "execution_count": 489,
   "metadata": {},
   "outputs": [
    {
     "name": "stdout",
     "output_type": "stream",
     "text": [
      "<class 'pandas.core.frame.DataFrame'>\n",
      "RangeIndex: 20819 entries, 0 to 20818\n",
      "Data columns (total 12 columns):\n",
      " #   Column                                    Non-Null Count  Dtype  \n",
      "---  ------                                    --------------  -----  \n",
      " 0   Country                                   20733 non-null  object \n",
      " 1   State                                     20733 non-null  object \n",
      " 2   Vehicle Primary Use                       20819 non-null  object \n",
      " 3   Battery Electric Vehicles (BEVs)          20819 non-null  int64  \n",
      " 4   Plug-In Hybrid Electric Vehicles (PHEVs)  20819 non-null  int64  \n",
      " 5   Electric Vehicle (EV) Total               20819 non-null  int64  \n",
      " 6   Non-Electric Vehicle Total                20819 non-null  object \n",
      " 7   Total Vehicles                            20819 non-null  object \n",
      " 8   Percent Electric Vehicles                 20819 non-null  float64\n",
      " 9   Month                                     20819 non-null  object \n",
      " 10  Day                                       20819 non-null  object \n",
      " 11  Year                                      20819 non-null  object \n",
      "dtypes: float64(1), int64(3), object(8)\n",
      "memory usage: 1.9+ MB\n"
     ]
    }
   ],
   "source": [
    "ev_df.info()"
   ]
  },
  {
   "cell_type": "code",
   "execution_count": 490,
   "metadata": {},
   "outputs": [
    {
     "data": {
      "text/plain": [
       "7096"
      ]
     },
     "execution_count": 490,
     "metadata": {},
     "output_type": "execute_result"
    }
   ],
   "source": [
    "ev_df['Non-Electric Vehicle Total'].nunique()"
   ]
  },
  {
   "cell_type": "code",
   "execution_count": 491,
   "metadata": {},
   "outputs": [
    {
     "data": {
      "text/plain": [
       "array(['460', '188', '32', ..., '8,902', '62,257', '2,724'], dtype=object)"
      ]
     },
     "execution_count": 491,
     "metadata": {},
     "output_type": "execute_result"
    }
   ],
   "source": [
    "ev_df['Non-Electric Vehicle Total'].unique()"
   ]
  },
  {
   "cell_type": "code",
   "execution_count": 492,
   "metadata": {},
   "outputs": [],
   "source": [
    "ev_df['Non-Electric Vehicle Total'] = ev_df['Non-Electric Vehicle Total'].str.replace(',','')\n"
   ]
  },
  {
   "cell_type": "code",
   "execution_count": 493,
   "metadata": {},
   "outputs": [],
   "source": [
    "ev_df['Non-Electric Vehicle Total'] = pd.to_numeric(ev_df['Non-Electric Vehicle Total'])"
   ]
  },
  {
   "cell_type": "code",
   "execution_count": 494,
   "metadata": {},
   "outputs": [
    {
     "data": {
      "text/plain": [
       "7095"
      ]
     },
     "execution_count": 494,
     "metadata": {},
     "output_type": "execute_result"
    }
   ],
   "source": [
    "ev_df['Total Vehicles'].nunique()"
   ]
  },
  {
   "cell_type": "code",
   "execution_count": 495,
   "metadata": {},
   "outputs": [
    {
     "data": {
      "text/plain": [
       "array(['467', '191', '33', ..., '8,946', '63,351', '2,740'], dtype=object)"
      ]
     },
     "execution_count": 495,
     "metadata": {},
     "output_type": "execute_result"
    }
   ],
   "source": [
    "ev_df['Total Vehicles'].unique()\n"
   ]
  },
  {
   "cell_type": "code",
   "execution_count": 496,
   "metadata": {},
   "outputs": [],
   "source": [
    "ev_df['Total Vehicles'] = ev_df['Total Vehicles'].str.replace(',','')"
   ]
  },
  {
   "cell_type": "code",
   "execution_count": 497,
   "metadata": {},
   "outputs": [],
   "source": [
    "ev_df['Total Vehicles'] = pd.to_numeric(ev_df['Total Vehicles'])"
   ]
  },
  {
   "cell_type": "code",
   "execution_count": 498,
   "metadata": {},
   "outputs": [
    {
     "name": "stdout",
     "output_type": "stream",
     "text": [
      "<class 'pandas.core.frame.DataFrame'>\n",
      "RangeIndex: 20819 entries, 0 to 20818\n",
      "Data columns (total 12 columns):\n",
      " #   Column                                    Non-Null Count  Dtype  \n",
      "---  ------                                    --------------  -----  \n",
      " 0   Country                                   20733 non-null  object \n",
      " 1   State                                     20733 non-null  object \n",
      " 2   Vehicle Primary Use                       20819 non-null  object \n",
      " 3   Battery Electric Vehicles (BEVs)          20819 non-null  int64  \n",
      " 4   Plug-In Hybrid Electric Vehicles (PHEVs)  20819 non-null  int64  \n",
      " 5   Electric Vehicle (EV) Total               20819 non-null  int64  \n",
      " 6   Non-Electric Vehicle Total                20819 non-null  int64  \n",
      " 7   Total Vehicles                            20819 non-null  int64  \n",
      " 8   Percent Electric Vehicles                 20819 non-null  float64\n",
      " 9   Month                                     20819 non-null  object \n",
      " 10  Day                                       20819 non-null  object \n",
      " 11  Year                                      20819 non-null  object \n",
      "dtypes: float64(1), int64(5), object(6)\n",
      "memory usage: 1.9+ MB\n"
     ]
    }
   ],
   "source": [
    "ev_df.info()"
   ]
  },
  {
   "cell_type": "markdown",
   "metadata": {},
   "source": [
    "ANALYSIS"
   ]
  },
  {
   "cell_type": "code",
   "execution_count": 499,
   "metadata": {},
   "outputs": [
    {
     "data": {
      "text/html": [
       "<div>\n",
       "<style scoped>\n",
       "    .dataframe tbody tr th:only-of-type {\n",
       "        vertical-align: middle;\n",
       "    }\n",
       "\n",
       "    .dataframe tbody tr th {\n",
       "        vertical-align: top;\n",
       "    }\n",
       "\n",
       "    .dataframe thead th {\n",
       "        text-align: right;\n",
       "    }\n",
       "</style>\n",
       "<table border=\"1\" class=\"dataframe\">\n",
       "  <thead>\n",
       "    <tr style=\"text-align: right;\">\n",
       "      <th></th>\n",
       "      <th>Country</th>\n",
       "      <th>State</th>\n",
       "      <th>Vehicle Primary Use</th>\n",
       "      <th>Battery Electric Vehicles (BEVs)</th>\n",
       "      <th>Plug-In Hybrid Electric Vehicles (PHEVs)</th>\n",
       "      <th>Electric Vehicle (EV) Total</th>\n",
       "      <th>Non-Electric Vehicle Total</th>\n",
       "      <th>Total Vehicles</th>\n",
       "      <th>Percent Electric Vehicles</th>\n",
       "      <th>Month</th>\n",
       "      <th>Day</th>\n",
       "      <th>Year</th>\n",
       "    </tr>\n",
       "  </thead>\n",
       "  <tbody>\n",
       "    <tr>\n",
       "      <th>0</th>\n",
       "      <td>Riverside</td>\n",
       "      <td>CA</td>\n",
       "      <td>Passenger</td>\n",
       "      <td>7</td>\n",
       "      <td>0</td>\n",
       "      <td>7</td>\n",
       "      <td>460</td>\n",
       "      <td>467</td>\n",
       "      <td>1.50</td>\n",
       "      <td>September</td>\n",
       "      <td>30</td>\n",
       "      <td>2022</td>\n",
       "    </tr>\n",
       "    <tr>\n",
       "      <th>1</th>\n",
       "      <td>Prince William</td>\n",
       "      <td>VA</td>\n",
       "      <td>Passenger</td>\n",
       "      <td>1</td>\n",
       "      <td>2</td>\n",
       "      <td>3</td>\n",
       "      <td>188</td>\n",
       "      <td>191</td>\n",
       "      <td>1.57</td>\n",
       "      <td>December</td>\n",
       "      <td>31</td>\n",
       "      <td>2022</td>\n",
       "    </tr>\n",
       "  </tbody>\n",
       "</table>\n",
       "</div>"
      ],
      "text/plain": [
       "          Country State Vehicle Primary Use  Battery Electric Vehicles (BEVs)  \\\n",
       "0       Riverside    CA           Passenger                                 7   \n",
       "1  Prince William    VA           Passenger                                 1   \n",
       "\n",
       "   Plug-In Hybrid Electric Vehicles (PHEVs)  Electric Vehicle (EV) Total  \\\n",
       "0                                         0                            7   \n",
       "1                                         2                            3   \n",
       "\n",
       "   Non-Electric Vehicle Total  Total Vehicles  Percent Electric Vehicles  \\\n",
       "0                         460             467                       1.50   \n",
       "1                         188             191                       1.57   \n",
       "\n",
       "       Month Day  Year  \n",
       "0  September  30  2022  \n",
       "1   December  31  2022  "
      ]
     },
     "execution_count": 499,
     "metadata": {},
     "output_type": "execute_result"
    }
   ],
   "source": [
    "ev_df.head(2)"
   ]
  },
  {
   "cell_type": "code",
   "execution_count": 533,
   "metadata": {},
   "outputs": [],
   "source": [
    "cor_matrix = ev_df[['Battery Electric Vehicles (BEVs)','Plug-In Hybrid Electric Vehicles (PHEVs)','Electric Vehicle (EV) Total',\n",
    "'Non-Electric Vehicle Total','Total Vehicles']]\n"
   ]
  },
  {
   "cell_type": "code",
   "execution_count": 534,
   "metadata": {},
   "outputs": [
    {
     "data": {
      "text/html": [
       "<div>\n",
       "<style scoped>\n",
       "    .dataframe tbody tr th:only-of-type {\n",
       "        vertical-align: middle;\n",
       "    }\n",
       "\n",
       "    .dataframe tbody tr th {\n",
       "        vertical-align: top;\n",
       "    }\n",
       "\n",
       "    .dataframe thead th {\n",
       "        text-align: right;\n",
       "    }\n",
       "</style>\n",
       "<table border=\"1\" class=\"dataframe\">\n",
       "  <thead>\n",
       "    <tr style=\"text-align: right;\">\n",
       "      <th></th>\n",
       "      <th>Battery Electric Vehicles (BEVs)</th>\n",
       "      <th>Plug-In Hybrid Electric Vehicles (PHEVs)</th>\n",
       "      <th>Electric Vehicle (EV) Total</th>\n",
       "      <th>Non-Electric Vehicle Total</th>\n",
       "      <th>Total Vehicles</th>\n",
       "    </tr>\n",
       "  </thead>\n",
       "  <tbody>\n",
       "    <tr>\n",
       "      <th>0</th>\n",
       "      <td>7</td>\n",
       "      <td>0</td>\n",
       "      <td>7</td>\n",
       "      <td>460</td>\n",
       "      <td>467</td>\n",
       "    </tr>\n",
       "    <tr>\n",
       "      <th>1</th>\n",
       "      <td>1</td>\n",
       "      <td>2</td>\n",
       "      <td>3</td>\n",
       "      <td>188</td>\n",
       "      <td>191</td>\n",
       "    </tr>\n",
       "    <tr>\n",
       "      <th>2</th>\n",
       "      <td>0</td>\n",
       "      <td>1</td>\n",
       "      <td>1</td>\n",
       "      <td>32</td>\n",
       "      <td>33</td>\n",
       "    </tr>\n",
       "    <tr>\n",
       "      <th>3</th>\n",
       "      <td>0</td>\n",
       "      <td>0</td>\n",
       "      <td>0</td>\n",
       "      <td>3575</td>\n",
       "      <td>3575</td>\n",
       "    </tr>\n",
       "    <tr>\n",
       "      <th>4</th>\n",
       "      <td>0</td>\n",
       "      <td>1</td>\n",
       "      <td>1</td>\n",
       "      <td>83</td>\n",
       "      <td>84</td>\n",
       "    </tr>\n",
       "  </tbody>\n",
       "</table>\n",
       "</div>"
      ],
      "text/plain": [
       "   Battery Electric Vehicles (BEVs)  Plug-In Hybrid Electric Vehicles (PHEVs)  \\\n",
       "0                                 7                                         0   \n",
       "1                                 1                                         2   \n",
       "2                                 0                                         1   \n",
       "3                                 0                                         0   \n",
       "4                                 0                                         1   \n",
       "\n",
       "   Electric Vehicle (EV) Total  Non-Electric Vehicle Total  Total Vehicles  \n",
       "0                            7                         460             467  \n",
       "1                            3                         188             191  \n",
       "2                            1                          32              33  \n",
       "3                            0                        3575            3575  \n",
       "4                            1                          83              84  "
      ]
     },
     "execution_count": 534,
     "metadata": {},
     "output_type": "execute_result"
    }
   ],
   "source": [
    "cor_matrix.head()"
   ]
  },
  {
   "cell_type": "code",
   "execution_count": 535,
   "metadata": {},
   "outputs": [
    {
     "data": {
      "text/html": [
       "<div>\n",
       "<style scoped>\n",
       "    .dataframe tbody tr th:only-of-type {\n",
       "        vertical-align: middle;\n",
       "    }\n",
       "\n",
       "    .dataframe tbody tr th {\n",
       "        vertical-align: top;\n",
       "    }\n",
       "\n",
       "    .dataframe thead th {\n",
       "        text-align: right;\n",
       "    }\n",
       "</style>\n",
       "<table border=\"1\" class=\"dataframe\">\n",
       "  <thead>\n",
       "    <tr style=\"text-align: right;\">\n",
       "      <th></th>\n",
       "      <th>Battery Electric Vehicles (BEVs)</th>\n",
       "      <th>Plug-In Hybrid Electric Vehicles (PHEVs)</th>\n",
       "      <th>Electric Vehicle (EV) Total</th>\n",
       "      <th>Non-Electric Vehicle Total</th>\n",
       "      <th>Total Vehicles</th>\n",
       "    </tr>\n",
       "  </thead>\n",
       "  <tbody>\n",
       "    <tr>\n",
       "      <th>Battery Electric Vehicles (BEVs)</th>\n",
       "      <td>1.000000</td>\n",
       "      <td>0.981358</td>\n",
       "      <td>0.999092</td>\n",
       "      <td>0.779821</td>\n",
       "      <td>0.789699</td>\n",
       "    </tr>\n",
       "    <tr>\n",
       "      <th>Plug-In Hybrid Electric Vehicles (PHEVs)</th>\n",
       "      <td>0.981358</td>\n",
       "      <td>1.000000</td>\n",
       "      <td>0.988656</td>\n",
       "      <td>0.870713</td>\n",
       "      <td>0.878351</td>\n",
       "    </tr>\n",
       "    <tr>\n",
       "      <th>Electric Vehicle (EV) Total</th>\n",
       "      <td>0.999092</td>\n",
       "      <td>0.988656</td>\n",
       "      <td>1.000000</td>\n",
       "      <td>0.802487</td>\n",
       "      <td>0.811900</td>\n",
       "    </tr>\n",
       "    <tr>\n",
       "      <th>Non-Electric Vehicle Total</th>\n",
       "      <td>0.779821</td>\n",
       "      <td>0.870713</td>\n",
       "      <td>0.802487</td>\n",
       "      <td>1.000000</td>\n",
       "      <td>0.999873</td>\n",
       "    </tr>\n",
       "    <tr>\n",
       "      <th>Total Vehicles</th>\n",
       "      <td>0.789699</td>\n",
       "      <td>0.878351</td>\n",
       "      <td>0.811900</td>\n",
       "      <td>0.999873</td>\n",
       "      <td>1.000000</td>\n",
       "    </tr>\n",
       "  </tbody>\n",
       "</table>\n",
       "</div>"
      ],
      "text/plain": [
       "                                          Battery Electric Vehicles (BEVs)  \\\n",
       "Battery Electric Vehicles (BEVs)                                  1.000000   \n",
       "Plug-In Hybrid Electric Vehicles (PHEVs)                          0.981358   \n",
       "Electric Vehicle (EV) Total                                       0.999092   \n",
       "Non-Electric Vehicle Total                                        0.779821   \n",
       "Total Vehicles                                                    0.789699   \n",
       "\n",
       "                                          Plug-In Hybrid Electric Vehicles (PHEVs)  \\\n",
       "Battery Electric Vehicles (BEVs)                                          0.981358   \n",
       "Plug-In Hybrid Electric Vehicles (PHEVs)                                  1.000000   \n",
       "Electric Vehicle (EV) Total                                               0.988656   \n",
       "Non-Electric Vehicle Total                                                0.870713   \n",
       "Total Vehicles                                                            0.878351   \n",
       "\n",
       "                                          Electric Vehicle (EV) Total  \\\n",
       "Battery Electric Vehicles (BEVs)                             0.999092   \n",
       "Plug-In Hybrid Electric Vehicles (PHEVs)                     0.988656   \n",
       "Electric Vehicle (EV) Total                                  1.000000   \n",
       "Non-Electric Vehicle Total                                   0.802487   \n",
       "Total Vehicles                                               0.811900   \n",
       "\n",
       "                                          Non-Electric Vehicle Total  \\\n",
       "Battery Electric Vehicles (BEVs)                            0.779821   \n",
       "Plug-In Hybrid Electric Vehicles (PHEVs)                    0.870713   \n",
       "Electric Vehicle (EV) Total                                 0.802487   \n",
       "Non-Electric Vehicle Total                                  1.000000   \n",
       "Total Vehicles                                              0.999873   \n",
       "\n",
       "                                          Total Vehicles  \n",
       "Battery Electric Vehicles (BEVs)                0.789699  \n",
       "Plug-In Hybrid Electric Vehicles (PHEVs)        0.878351  \n",
       "Electric Vehicle (EV) Total                     0.811900  \n",
       "Non-Electric Vehicle Total                      0.999873  \n",
       "Total Vehicles                                  1.000000  "
      ]
     },
     "execution_count": 535,
     "metadata": {},
     "output_type": "execute_result"
    }
   ],
   "source": [
    "cor_matrix.corr()"
   ]
  },
  {
   "cell_type": "code",
   "execution_count": 527,
   "metadata": {},
   "outputs": [
    {
     "data": {
      "text/plain": [
       "Battery Electric Vehicles (BEVs)            1.000000\n",
       "Plug-In Hybrid Electric Vehicles (PHEVs)    0.981358\n",
       "Electric Vehicle (EV) Total                 0.999092\n",
       "Non-Electric Vehicle Total                  0.779821\n",
       "Total Vehicles                              0.789699\n",
       "Name: Battery Electric Vehicles (BEVs), dtype: float64"
      ]
     },
     "execution_count": 527,
     "metadata": {},
     "output_type": "execute_result"
    }
   ],
   "source": [
    "cor_matrix.corr()['Battery Electric Vehicles (BEVs)']"
   ]
  },
  {
   "cell_type": "code",
   "execution_count": null,
   "metadata": {},
   "outputs": [
    {
     "name": "stdout",
     "output_type": "stream",
     "text": [
      "The total number of vehicles registered is 528711879\n"
     ]
    }
   ],
   "source": [
    "total_vehicles = ev_df['Total Vehicles'].sum()\n",
    "print('The total number of vehicles registered is', total_vehicles)"
   ]
  },
  {
   "cell_type": "code",
   "execution_count": null,
   "metadata": {},
   "outputs": [
    {
     "data": {
      "text/plain": [
       "Electric Vehicle (EV) Total      6195315\n",
       "Non-Electric Vehicle Total     522516564\n",
       "dtype: int64"
      ]
     },
     "execution_count": 388,
     "metadata": {},
     "output_type": "execute_result"
    }
   ],
   "source": [
    "#sum of electric and non-electric vehicles,1\n",
    "ev_df[['Electric Vehicle (EV) Total','Non-Electric Vehicle Total']].sum()"
   ]
  },
  {
   "cell_type": "code",
   "execution_count": null,
   "metadata": {},
   "outputs": [
    {
     "data": {
      "text/html": [
       "<div>\n",
       "<style scoped>\n",
       "    .dataframe tbody tr th:only-of-type {\n",
       "        vertical-align: middle;\n",
       "    }\n",
       "\n",
       "    .dataframe tbody tr th {\n",
       "        vertical-align: top;\n",
       "    }\n",
       "\n",
       "    .dataframe thead th {\n",
       "        text-align: right;\n",
       "    }\n",
       "</style>\n",
       "<table border=\"1\" class=\"dataframe\">\n",
       "  <thead>\n",
       "    <tr style=\"text-align: right;\">\n",
       "      <th></th>\n",
       "      <th>Country</th>\n",
       "      <th>Electric Vehicle (EV) Total</th>\n",
       "    </tr>\n",
       "  </thead>\n",
       "  <tbody>\n",
       "    <tr>\n",
       "      <th>0</th>\n",
       "      <td>Riverside</td>\n",
       "      <td>7</td>\n",
       "    </tr>\n",
       "    <tr>\n",
       "      <th>1</th>\n",
       "      <td>Prince William</td>\n",
       "      <td>3</td>\n",
       "    </tr>\n",
       "    <tr>\n",
       "      <th>2</th>\n",
       "      <td>Dakota</td>\n",
       "      <td>1</td>\n",
       "    </tr>\n",
       "    <tr>\n",
       "      <th>3</th>\n",
       "      <td>Ferry</td>\n",
       "      <td>0</td>\n",
       "    </tr>\n",
       "    <tr>\n",
       "      <th>4</th>\n",
       "      <td>Douglas</td>\n",
       "      <td>1</td>\n",
       "    </tr>\n",
       "  </tbody>\n",
       "</table>\n",
       "</div>"
      ],
      "text/plain": [
       "          Country  Electric Vehicle (EV) Total\n",
       "0       Riverside                            7\n",
       "1  Prince William                            3\n",
       "2          Dakota                            1\n",
       "3           Ferry                            0\n",
       "4         Douglas                            1"
      ]
     },
     "execution_count": 389,
     "metadata": {},
     "output_type": "execute_result"
    }
   ],
   "source": [
    "e_vehiclesby_country = ev_df[['Country','Electric Vehicle (EV) Total']]\n",
    "e_vehiclesby_country.head()"
   ]
  },
  {
   "cell_type": "code",
   "execution_count": null,
   "metadata": {},
   "outputs": [
    {
     "data": {
      "text/html": [
       "<div>\n",
       "<style scoped>\n",
       "    .dataframe tbody tr th:only-of-type {\n",
       "        vertical-align: middle;\n",
       "    }\n",
       "\n",
       "    .dataframe tbody tr th {\n",
       "        vertical-align: top;\n",
       "    }\n",
       "\n",
       "    .dataframe thead th {\n",
       "        text-align: right;\n",
       "    }\n",
       "</style>\n",
       "<table border=\"1\" class=\"dataframe\">\n",
       "  <thead>\n",
       "    <tr style=\"text-align: right;\">\n",
       "      <th></th>\n",
       "      <th>Electric Vehicle (EV) Total</th>\n",
       "    </tr>\n",
       "    <tr>\n",
       "      <th>Country</th>\n",
       "      <th></th>\n",
       "    </tr>\n",
       "  </thead>\n",
       "  <tbody>\n",
       "    <tr>\n",
       "      <th>King</th>\n",
       "      <td>3309850</td>\n",
       "    </tr>\n",
       "    <tr>\n",
       "      <th>Snohomish</th>\n",
       "      <td>683598</td>\n",
       "    </tr>\n",
       "    <tr>\n",
       "      <th>Pierce</th>\n",
       "      <td>456003</td>\n",
       "    </tr>\n",
       "    <tr>\n",
       "      <th>Clark</th>\n",
       "      <td>351317</td>\n",
       "    </tr>\n",
       "    <tr>\n",
       "      <th>Kitsap</th>\n",
       "      <td>214711</td>\n",
       "    </tr>\n",
       "    <tr>\n",
       "      <th>Thurston</th>\n",
       "      <td>198261</td>\n",
       "    </tr>\n",
       "    <tr>\n",
       "      <th>Whatcom</th>\n",
       "      <td>160625</td>\n",
       "    </tr>\n",
       "    <tr>\n",
       "      <th>Spokane</th>\n",
       "      <td>143242</td>\n",
       "    </tr>\n",
       "    <tr>\n",
       "      <th>Benton</th>\n",
       "      <td>74876</td>\n",
       "    </tr>\n",
       "    <tr>\n",
       "      <th>Island</th>\n",
       "      <td>71790</td>\n",
       "    </tr>\n",
       "  </tbody>\n",
       "</table>\n",
       "</div>"
      ],
      "text/plain": [
       "           Electric Vehicle (EV) Total\n",
       "Country                               \n",
       "King                           3309850\n",
       "Snohomish                       683598\n",
       "Pierce                          456003\n",
       "Clark                           351317\n",
       "Kitsap                          214711\n",
       "Thurston                        198261\n",
       "Whatcom                         160625\n",
       "Spokane                         143242\n",
       "Benton                           74876\n",
       "Island                           71790"
      ]
     },
     "execution_count": 390,
     "metadata": {},
     "output_type": "execute_result"
    }
   ],
   "source": [
    "#top 10 countries with registered e_vehicles,2 \n",
    "e_vehiclesby_country.groupby('Country').sum('Electric Vehicle (EV) Total').sort_values('Electric Vehicle (EV) Total',\n",
    "                                                                                        ascending=False).head(10)"
   ]
  },
  {
   "cell_type": "code",
   "execution_count": null,
   "metadata": {},
   "outputs": [],
   "source": [
    "#least 10 countries with registered e_vehicles\n",
    "#e_vehiclesby_country.groupby('Country').sum('Electric Vehicle (EV) Total').sort_values('Electric Vehicle (EV) Total',\n",
    " #                                                                                       ascending=False).tail(10)\n"
   ]
  },
  {
   "cell_type": "code",
   "execution_count": null,
   "metadata": {},
   "outputs": [
    {
     "data": {
      "text/html": [
       "<div>\n",
       "<style scoped>\n",
       "    .dataframe tbody tr th:only-of-type {\n",
       "        vertical-align: middle;\n",
       "    }\n",
       "\n",
       "    .dataframe tbody tr th {\n",
       "        vertical-align: top;\n",
       "    }\n",
       "\n",
       "    .dataframe thead th {\n",
       "        text-align: right;\n",
       "    }\n",
       "</style>\n",
       "<table border=\"1\" class=\"dataframe\">\n",
       "  <thead>\n",
       "    <tr style=\"text-align: right;\">\n",
       "      <th></th>\n",
       "      <th>Vehicle Primary Use</th>\n",
       "      <th>Electric Vehicle (EV) Total</th>\n",
       "    </tr>\n",
       "  </thead>\n",
       "  <tbody>\n",
       "    <tr>\n",
       "      <th>0</th>\n",
       "      <td>Passenger</td>\n",
       "      <td>7</td>\n",
       "    </tr>\n",
       "    <tr>\n",
       "      <th>1</th>\n",
       "      <td>Passenger</td>\n",
       "      <td>3</td>\n",
       "    </tr>\n",
       "    <tr>\n",
       "      <th>2</th>\n",
       "      <td>Passenger</td>\n",
       "      <td>1</td>\n",
       "    </tr>\n",
       "    <tr>\n",
       "      <th>3</th>\n",
       "      <td>Truck</td>\n",
       "      <td>0</td>\n",
       "    </tr>\n",
       "    <tr>\n",
       "      <th>4</th>\n",
       "      <td>Passenger</td>\n",
       "      <td>1</td>\n",
       "    </tr>\n",
       "  </tbody>\n",
       "</table>\n",
       "</div>"
      ],
      "text/plain": [
       "  Vehicle Primary Use  Electric Vehicle (EV) Total\n",
       "0           Passenger                            7\n",
       "1           Passenger                            3\n",
       "2           Passenger                            1\n",
       "3               Truck                            0\n",
       "4           Passenger                            1"
      ]
     },
     "execution_count": 392,
     "metadata": {},
     "output_type": "execute_result"
    }
   ],
   "source": [
    "#electric vehicles by use, 3\n",
    "evby_use = ev_df[['Vehicle Primary Use','Electric Vehicle (EV) Total']]\n",
    "evby_use.head()"
   ]
  },
  {
   "cell_type": "code",
   "execution_count": null,
   "metadata": {},
   "outputs": [
    {
     "data": {
      "text/html": [
       "<div>\n",
       "<style scoped>\n",
       "    .dataframe tbody tr th:only-of-type {\n",
       "        vertical-align: middle;\n",
       "    }\n",
       "\n",
       "    .dataframe tbody tr th {\n",
       "        vertical-align: top;\n",
       "    }\n",
       "\n",
       "    .dataframe thead th {\n",
       "        text-align: right;\n",
       "    }\n",
       "</style>\n",
       "<table border=\"1\" class=\"dataframe\">\n",
       "  <thead>\n",
       "    <tr style=\"text-align: right;\">\n",
       "      <th></th>\n",
       "      <th>Electric Vehicle (EV) Total</th>\n",
       "    </tr>\n",
       "    <tr>\n",
       "      <th>Vehicle Primary Use</th>\n",
       "      <th></th>\n",
       "    </tr>\n",
       "  </thead>\n",
       "  <tbody>\n",
       "    <tr>\n",
       "      <th>Passenger</th>\n",
       "      <td>6164648</td>\n",
       "    </tr>\n",
       "    <tr>\n",
       "      <th>Truck</th>\n",
       "      <td>30667</td>\n",
       "    </tr>\n",
       "  </tbody>\n",
       "</table>\n",
       "</div>"
      ],
      "text/plain": [
       "                     Electric Vehicle (EV) Total\n",
       "Vehicle Primary Use                             \n",
       "Passenger                                6164648\n",
       "Truck                                      30667"
      ]
     },
     "execution_count": 393,
     "metadata": {},
     "output_type": "execute_result"
    }
   ],
   "source": [
    "#sum of electric vehicles by use, 3\n",
    "evby_use.groupby('Vehicle Primary Use').sum()\n"
   ]
  },
  {
   "cell_type": "code",
   "execution_count": null,
   "metadata": {},
   "outputs": [],
   "source": [
    "#non electric vehicles by use\n",
    "#non_ev_use = non_ev_use= ev_df[['Vehicle Primary Use','Non-Electric Vehicle Total']]\n",
    "#non_ev_use.head()"
   ]
  },
  {
   "cell_type": "code",
   "execution_count": null,
   "metadata": {},
   "outputs": [],
   "source": [
    "#sum of non electric vehicles by use\n",
    "#non_ev_use.groupby('Vehicle Primary Use').sum()"
   ]
  },
  {
   "cell_type": "code",
   "execution_count": null,
   "metadata": {},
   "outputs": [
    {
     "data": {
      "text/html": [
       "<div>\n",
       "<style scoped>\n",
       "    .dataframe tbody tr th:only-of-type {\n",
       "        vertical-align: middle;\n",
       "    }\n",
       "\n",
       "    .dataframe tbody tr th {\n",
       "        vertical-align: top;\n",
       "    }\n",
       "\n",
       "    .dataframe thead th {\n",
       "        text-align: right;\n",
       "    }\n",
       "</style>\n",
       "<table border=\"1\" class=\"dataframe\">\n",
       "  <thead>\n",
       "    <tr style=\"text-align: right;\">\n",
       "      <th></th>\n",
       "      <th>Country</th>\n",
       "      <th>State</th>\n",
       "      <th>Vehicle Primary Use</th>\n",
       "      <th>Battery Electric Vehicles (BEVs)</th>\n",
       "      <th>Plug-In Hybrid Electric Vehicles (PHEVs)</th>\n",
       "      <th>Electric Vehicle (EV) Total</th>\n",
       "      <th>Non-Electric Vehicle Total</th>\n",
       "      <th>Total Vehicles</th>\n",
       "      <th>Percent Electric Vehicles</th>\n",
       "      <th>Month</th>\n",
       "      <th>Day</th>\n",
       "      <th>Year</th>\n",
       "    </tr>\n",
       "  </thead>\n",
       "  <tbody>\n",
       "    <tr>\n",
       "      <th>0</th>\n",
       "      <td>Riverside</td>\n",
       "      <td>CA</td>\n",
       "      <td>Passenger</td>\n",
       "      <td>7</td>\n",
       "      <td>0</td>\n",
       "      <td>7</td>\n",
       "      <td>460</td>\n",
       "      <td>467</td>\n",
       "      <td>1.50</td>\n",
       "      <td>September</td>\n",
       "      <td>30</td>\n",
       "      <td>2022</td>\n",
       "    </tr>\n",
       "    <tr>\n",
       "      <th>1</th>\n",
       "      <td>Prince William</td>\n",
       "      <td>VA</td>\n",
       "      <td>Passenger</td>\n",
       "      <td>1</td>\n",
       "      <td>2</td>\n",
       "      <td>3</td>\n",
       "      <td>188</td>\n",
       "      <td>191</td>\n",
       "      <td>1.57</td>\n",
       "      <td>December</td>\n",
       "      <td>31</td>\n",
       "      <td>2022</td>\n",
       "    </tr>\n",
       "  </tbody>\n",
       "</table>\n",
       "</div>"
      ],
      "text/plain": [
       "          Country State Vehicle Primary Use  Battery Electric Vehicles (BEVs)  \\\n",
       "0       Riverside    CA           Passenger                                 7   \n",
       "1  Prince William    VA           Passenger                                 1   \n",
       "\n",
       "   Plug-In Hybrid Electric Vehicles (PHEVs)  Electric Vehicle (EV) Total  \\\n",
       "0                                         0                            7   \n",
       "1                                         2                            3   \n",
       "\n",
       "   Non-Electric Vehicle Total  Total Vehicles  Percent Electric Vehicles  \\\n",
       "0                         460             467                       1.50   \n",
       "1                         188             191                       1.57   \n",
       "\n",
       "       Month Day  Year  \n",
       "0  September  30  2022  \n",
       "1   December  31  2022  "
      ]
     },
     "execution_count": 396,
     "metadata": {},
     "output_type": "execute_result"
    }
   ],
   "source": [
    "ev_df.head(2)"
   ]
  },
  {
   "cell_type": "code",
   "execution_count": null,
   "metadata": {},
   "outputs": [
    {
     "data": {
      "text/html": [
       "<div>\n",
       "<style scoped>\n",
       "    .dataframe tbody tr th:only-of-type {\n",
       "        vertical-align: middle;\n",
       "    }\n",
       "\n",
       "    .dataframe tbody tr th {\n",
       "        vertical-align: top;\n",
       "    }\n",
       "\n",
       "    .dataframe thead th {\n",
       "        text-align: right;\n",
       "    }\n",
       "</style>\n",
       "<table border=\"1\" class=\"dataframe\">\n",
       "  <thead>\n",
       "    <tr style=\"text-align: right;\">\n",
       "      <th></th>\n",
       "      <th>Vehicle Primary Use</th>\n",
       "      <th>Battery Electric Vehicles (BEVs)</th>\n",
       "      <th>Plug-In Hybrid Electric Vehicles (PHEVs)</th>\n",
       "    </tr>\n",
       "  </thead>\n",
       "  <tbody>\n",
       "    <tr>\n",
       "      <th>0</th>\n",
       "      <td>Passenger</td>\n",
       "      <td>7</td>\n",
       "      <td>0</td>\n",
       "    </tr>\n",
       "    <tr>\n",
       "      <th>1</th>\n",
       "      <td>Passenger</td>\n",
       "      <td>1</td>\n",
       "      <td>2</td>\n",
       "    </tr>\n",
       "    <tr>\n",
       "      <th>2</th>\n",
       "      <td>Passenger</td>\n",
       "      <td>0</td>\n",
       "      <td>1</td>\n",
       "    </tr>\n",
       "    <tr>\n",
       "      <th>3</th>\n",
       "      <td>Truck</td>\n",
       "      <td>0</td>\n",
       "      <td>0</td>\n",
       "    </tr>\n",
       "    <tr>\n",
       "      <th>4</th>\n",
       "      <td>Passenger</td>\n",
       "      <td>0</td>\n",
       "      <td>1</td>\n",
       "    </tr>\n",
       "  </tbody>\n",
       "</table>\n",
       "</div>"
      ],
      "text/plain": [
       "  Vehicle Primary Use  Battery Electric Vehicles (BEVs)  \\\n",
       "0           Passenger                                 7   \n",
       "1           Passenger                                 1   \n",
       "2           Passenger                                 0   \n",
       "3               Truck                                 0   \n",
       "4           Passenger                                 0   \n",
       "\n",
       "   Plug-In Hybrid Electric Vehicles (PHEVs)  \n",
       "0                                         0  \n",
       "1                                         2  \n",
       "2                                         1  \n",
       "3                                         0  \n",
       "4                                         1  "
      ]
     },
     "execution_count": 397,
     "metadata": {},
     "output_type": "execute_result"
    }
   ],
   "source": [
    "ev_typesby_use = ev_df[['Vehicle Primary Use','Battery Electric Vehicles (BEVs)','Plug-In Hybrid Electric Vehicles (PHEVs)']]\n",
    "ev_typesby_use.head()"
   ]
  },
  {
   "cell_type": "code",
   "execution_count": null,
   "metadata": {},
   "outputs": [
    {
     "data": {
      "text/html": [
       "<div>\n",
       "<style scoped>\n",
       "    .dataframe tbody tr th:only-of-type {\n",
       "        vertical-align: middle;\n",
       "    }\n",
       "\n",
       "    .dataframe tbody tr th {\n",
       "        vertical-align: top;\n",
       "    }\n",
       "\n",
       "    .dataframe thead th {\n",
       "        text-align: right;\n",
       "    }\n",
       "</style>\n",
       "<table border=\"1\" class=\"dataframe\">\n",
       "  <thead>\n",
       "    <tr style=\"text-align: right;\">\n",
       "      <th></th>\n",
       "      <th>Battery Electric Vehicles (BEVs)</th>\n",
       "      <th>Plug-In Hybrid Electric Vehicles (PHEVs)</th>\n",
       "    </tr>\n",
       "    <tr>\n",
       "      <th>Vehicle Primary Use</th>\n",
       "      <th></th>\n",
       "      <th></th>\n",
       "    </tr>\n",
       "  </thead>\n",
       "  <tbody>\n",
       "    <tr>\n",
       "      <th>Passenger</th>\n",
       "      <td>4497920</td>\n",
       "      <td>1666728</td>\n",
       "    </tr>\n",
       "    <tr>\n",
       "      <th>Truck</th>\n",
       "      <td>30550</td>\n",
       "      <td>117</td>\n",
       "    </tr>\n",
       "  </tbody>\n",
       "</table>\n",
       "</div>"
      ],
      "text/plain": [
       "                     Battery Electric Vehicles (BEVs)  \\\n",
       "Vehicle Primary Use                                     \n",
       "Passenger                                     4497920   \n",
       "Truck                                           30550   \n",
       "\n",
       "                     Plug-In Hybrid Electric Vehicles (PHEVs)  \n",
       "Vehicle Primary Use                                            \n",
       "Passenger                                             1666728  \n",
       "Truck                                                     117  "
      ]
     },
     "execution_count": 398,
     "metadata": {},
     "output_type": "execute_result"
    }
   ],
   "source": [
    "#electric vehicle types by use, 4\n",
    "ev_typesby_use.groupby('Vehicle Primary Use').sum()"
   ]
  },
  {
   "cell_type": "code",
   "execution_count": null,
   "metadata": {},
   "outputs": [
    {
     "data": {
      "text/html": [
       "<div>\n",
       "<style scoped>\n",
       "    .dataframe tbody tr th:only-of-type {\n",
       "        vertical-align: middle;\n",
       "    }\n",
       "\n",
       "    .dataframe tbody tr th {\n",
       "        vertical-align: top;\n",
       "    }\n",
       "\n",
       "    .dataframe thead th {\n",
       "        text-align: right;\n",
       "    }\n",
       "</style>\n",
       "<table border=\"1\" class=\"dataframe\">\n",
       "  <thead>\n",
       "    <tr style=\"text-align: right;\">\n",
       "      <th></th>\n",
       "      <th>State</th>\n",
       "      <th>Electric Vehicle (EV) Total</th>\n",
       "    </tr>\n",
       "  </thead>\n",
       "  <tbody>\n",
       "    <tr>\n",
       "      <th>0</th>\n",
       "      <td>CA</td>\n",
       "      <td>7</td>\n",
       "    </tr>\n",
       "    <tr>\n",
       "      <th>1</th>\n",
       "      <td>VA</td>\n",
       "      <td>3</td>\n",
       "    </tr>\n",
       "  </tbody>\n",
       "</table>\n",
       "</div>"
      ],
      "text/plain": [
       "  State  Electric Vehicle (EV) Total\n",
       "0    CA                            7\n",
       "1    VA                            3"
      ]
     },
     "execution_count": 399,
     "metadata": {},
     "output_type": "execute_result"
    }
   ],
   "source": [
    "ev_bystate = ev_df[['State','Electric Vehicle (EV) Total']]\n",
    "ev_bystate.head(2)"
   ]
  },
  {
   "cell_type": "code",
   "execution_count": null,
   "metadata": {},
   "outputs": [
    {
     "data": {
      "text/html": [
       "<div>\n",
       "<style scoped>\n",
       "    .dataframe tbody tr th:only-of-type {\n",
       "        vertical-align: middle;\n",
       "    }\n",
       "\n",
       "    .dataframe tbody tr th {\n",
       "        vertical-align: top;\n",
       "    }\n",
       "\n",
       "    .dataframe thead th {\n",
       "        text-align: right;\n",
       "    }\n",
       "</style>\n",
       "<table border=\"1\" class=\"dataframe\">\n",
       "  <thead>\n",
       "    <tr style=\"text-align: right;\">\n",
       "      <th></th>\n",
       "      <th>Electric Vehicle (EV) Total</th>\n",
       "    </tr>\n",
       "    <tr>\n",
       "      <th>State</th>\n",
       "      <th></th>\n",
       "    </tr>\n",
       "  </thead>\n",
       "  <tbody>\n",
       "    <tr>\n",
       "      <th>WA</th>\n",
       "      <td>6166610</td>\n",
       "    </tr>\n",
       "    <tr>\n",
       "      <th>CA</th>\n",
       "      <td>6892</td>\n",
       "    </tr>\n",
       "    <tr>\n",
       "      <th>VA</th>\n",
       "      <td>3160</td>\n",
       "    </tr>\n",
       "    <tr>\n",
       "      <th>TX</th>\n",
       "      <td>2113</td>\n",
       "    </tr>\n",
       "    <tr>\n",
       "      <th>MD</th>\n",
       "      <td>1520</td>\n",
       "    </tr>\n",
       "  </tbody>\n",
       "</table>\n",
       "</div>"
      ],
      "text/plain": [
       "       Electric Vehicle (EV) Total\n",
       "State                             \n",
       "WA                         6166610\n",
       "CA                            6892\n",
       "VA                            3160\n",
       "TX                            2113\n",
       "MD                            1520"
      ]
     },
     "execution_count": 400,
     "metadata": {},
     "output_type": "execute_result"
    }
   ],
   "source": [
    "#top 5 states with electric vehicles, 5\n",
    "ev_bystate.groupby('State').sum().sort_values(by='Electric Vehicle (EV) Total', ascending=False).head(5)"
   ]
  },
  {
   "cell_type": "code",
   "execution_count": null,
   "metadata": {},
   "outputs": [
    {
     "data": {
      "text/html": [
       "<div>\n",
       "<style scoped>\n",
       "    .dataframe tbody tr th:only-of-type {\n",
       "        vertical-align: middle;\n",
       "    }\n",
       "\n",
       "    .dataframe tbody tr th {\n",
       "        vertical-align: top;\n",
       "    }\n",
       "\n",
       "    .dataframe thead th {\n",
       "        text-align: right;\n",
       "    }\n",
       "</style>\n",
       "<table border=\"1\" class=\"dataframe\">\n",
       "  <thead>\n",
       "    <tr style=\"text-align: right;\">\n",
       "      <th></th>\n",
       "      <th>Year</th>\n",
       "      <th>Electric Vehicle (EV) Total</th>\n",
       "    </tr>\n",
       "  </thead>\n",
       "  <tbody>\n",
       "    <tr>\n",
       "      <th>0</th>\n",
       "      <td>2022</td>\n",
       "      <td>7</td>\n",
       "    </tr>\n",
       "    <tr>\n",
       "      <th>1</th>\n",
       "      <td>2022</td>\n",
       "      <td>3</td>\n",
       "    </tr>\n",
       "    <tr>\n",
       "      <th>2</th>\n",
       "      <td>2020</td>\n",
       "      <td>1</td>\n",
       "    </tr>\n",
       "    <tr>\n",
       "      <th>3</th>\n",
       "      <td>2022</td>\n",
       "      <td>0</td>\n",
       "    </tr>\n",
       "    <tr>\n",
       "      <th>4</th>\n",
       "      <td>2021</td>\n",
       "      <td>1</td>\n",
       "    </tr>\n",
       "  </tbody>\n",
       "</table>\n",
       "</div>"
      ],
      "text/plain": [
       "   Year  Electric Vehicle (EV) Total\n",
       "0  2022                            7\n",
       "1  2022                            3\n",
       "2  2020                            1\n",
       "3  2022                            0\n",
       "4  2021                            1"
      ]
     },
     "execution_count": 401,
     "metadata": {},
     "output_type": "execute_result"
    }
   ],
   "source": [
    "#electric vehicles by year, 6\n",
    "evehicle_yr = ev_df[['Year','Electric Vehicle (EV) Total']]\n",
    "evehicle_yr.head()"
   ]
  },
  {
   "cell_type": "code",
   "execution_count": null,
   "metadata": {},
   "outputs": [
    {
     "data": {
      "text/html": [
       "<div>\n",
       "<style scoped>\n",
       "    .dataframe tbody tr th:only-of-type {\n",
       "        vertical-align: middle;\n",
       "    }\n",
       "\n",
       "    .dataframe tbody tr th {\n",
       "        vertical-align: top;\n",
       "    }\n",
       "\n",
       "    .dataframe thead th {\n",
       "        text-align: right;\n",
       "    }\n",
       "</style>\n",
       "<table border=\"1\" class=\"dataframe\">\n",
       "  <thead>\n",
       "    <tr style=\"text-align: right;\">\n",
       "      <th></th>\n",
       "      <th>Electric Vehicle (EV) Total</th>\n",
       "    </tr>\n",
       "    <tr>\n",
       "      <th>Year</th>\n",
       "      <th></th>\n",
       "    </tr>\n",
       "  </thead>\n",
       "  <tbody>\n",
       "    <tr>\n",
       "      <th>2017</th>\n",
       "      <td>304741</td>\n",
       "    </tr>\n",
       "    <tr>\n",
       "      <th>2018</th>\n",
       "      <td>416635</td>\n",
       "    </tr>\n",
       "    <tr>\n",
       "      <th>2019</th>\n",
       "      <td>577980</td>\n",
       "    </tr>\n",
       "    <tr>\n",
       "      <th>2020</th>\n",
       "      <td>715810</td>\n",
       "    </tr>\n",
       "    <tr>\n",
       "      <th>2021</th>\n",
       "      <td>914806</td>\n",
       "    </tr>\n",
       "    <tr>\n",
       "      <th>2022</th>\n",
       "      <td>1214793</td>\n",
       "    </tr>\n",
       "    <tr>\n",
       "      <th>2023</th>\n",
       "      <td>1705405</td>\n",
       "    </tr>\n",
       "    <tr>\n",
       "      <th>2024</th>\n",
       "      <td>345145</td>\n",
       "    </tr>\n",
       "  </tbody>\n",
       "</table>\n",
       "</div>"
      ],
      "text/plain": [
       "      Electric Vehicle (EV) Total\n",
       "Year                             \n",
       "2017                       304741\n",
       "2018                       416635\n",
       "2019                       577980\n",
       "2020                       715810\n",
       "2021                       914806\n",
       "2022                      1214793\n",
       "2023                      1705405\n",
       "2024                       345145"
      ]
     },
     "execution_count": 402,
     "metadata": {},
     "output_type": "execute_result"
    }
   ],
   "source": [
    "evehicle_yr.groupby('Year').sum()"
   ]
  },
  {
   "cell_type": "code",
   "execution_count": null,
   "metadata": {},
   "outputs": [
    {
     "data": {
      "text/html": [
       "<div>\n",
       "<style scoped>\n",
       "    .dataframe tbody tr th:only-of-type {\n",
       "        vertical-align: middle;\n",
       "    }\n",
       "\n",
       "    .dataframe tbody tr th {\n",
       "        vertical-align: top;\n",
       "    }\n",
       "\n",
       "    .dataframe thead th {\n",
       "        text-align: right;\n",
       "    }\n",
       "</style>\n",
       "<table border=\"1\" class=\"dataframe\">\n",
       "  <thead>\n",
       "    <tr style=\"text-align: right;\">\n",
       "      <th></th>\n",
       "      <th>Country</th>\n",
       "      <th>State</th>\n",
       "      <th>Vehicle Primary Use</th>\n",
       "      <th>Battery Electric Vehicles (BEVs)</th>\n",
       "      <th>Plug-In Hybrid Electric Vehicles (PHEVs)</th>\n",
       "      <th>Electric Vehicle (EV) Total</th>\n",
       "      <th>Non-Electric Vehicle Total</th>\n",
       "      <th>Total Vehicles</th>\n",
       "      <th>Percent Electric Vehicles</th>\n",
       "      <th>Month</th>\n",
       "      <th>Day</th>\n",
       "      <th>Year</th>\n",
       "    </tr>\n",
       "  </thead>\n",
       "  <tbody>\n",
       "    <tr>\n",
       "      <th>0</th>\n",
       "      <td>Riverside</td>\n",
       "      <td>CA</td>\n",
       "      <td>Passenger</td>\n",
       "      <td>7</td>\n",
       "      <td>0</td>\n",
       "      <td>7</td>\n",
       "      <td>460</td>\n",
       "      <td>467</td>\n",
       "      <td>1.50</td>\n",
       "      <td>September</td>\n",
       "      <td>30</td>\n",
       "      <td>2022</td>\n",
       "    </tr>\n",
       "    <tr>\n",
       "      <th>1</th>\n",
       "      <td>Prince William</td>\n",
       "      <td>VA</td>\n",
       "      <td>Passenger</td>\n",
       "      <td>1</td>\n",
       "      <td>2</td>\n",
       "      <td>3</td>\n",
       "      <td>188</td>\n",
       "      <td>191</td>\n",
       "      <td>1.57</td>\n",
       "      <td>December</td>\n",
       "      <td>31</td>\n",
       "      <td>2022</td>\n",
       "    </tr>\n",
       "  </tbody>\n",
       "</table>\n",
       "</div>"
      ],
      "text/plain": [
       "          Country State Vehicle Primary Use  Battery Electric Vehicles (BEVs)  \\\n",
       "0       Riverside    CA           Passenger                                 7   \n",
       "1  Prince William    VA           Passenger                                 1   \n",
       "\n",
       "   Plug-In Hybrid Electric Vehicles (PHEVs)  Electric Vehicle (EV) Total  \\\n",
       "0                                         0                            7   \n",
       "1                                         2                            3   \n",
       "\n",
       "   Non-Electric Vehicle Total  Total Vehicles  Percent Electric Vehicles  \\\n",
       "0                         460             467                       1.50   \n",
       "1                         188             191                       1.57   \n",
       "\n",
       "       Month Day  Year  \n",
       "0  September  30  2022  \n",
       "1   December  31  2022  "
      ]
     },
     "execution_count": 403,
     "metadata": {},
     "output_type": "execute_result"
    }
   ],
   "source": [
    "ev_df.head(2)\n"
   ]
  },
  {
   "cell_type": "code",
   "execution_count": null,
   "metadata": {},
   "outputs": [
    {
     "data": {
      "text/html": [
       "<div>\n",
       "<style scoped>\n",
       "    .dataframe tbody tr th:only-of-type {\n",
       "        vertical-align: middle;\n",
       "    }\n",
       "\n",
       "    .dataframe tbody tr th {\n",
       "        vertical-align: top;\n",
       "    }\n",
       "\n",
       "    .dataframe thead th {\n",
       "        text-align: right;\n",
       "    }\n",
       "</style>\n",
       "<table border=\"1\" class=\"dataframe\">\n",
       "  <thead>\n",
       "    <tr style=\"text-align: right;\">\n",
       "      <th></th>\n",
       "      <th>Month</th>\n",
       "      <th>Electric Vehicle (EV) Total</th>\n",
       "    </tr>\n",
       "  </thead>\n",
       "  <tbody>\n",
       "    <tr>\n",
       "      <th>0</th>\n",
       "      <td>September</td>\n",
       "      <td>7</td>\n",
       "    </tr>\n",
       "    <tr>\n",
       "      <th>1</th>\n",
       "      <td>December</td>\n",
       "      <td>3</td>\n",
       "    </tr>\n",
       "    <tr>\n",
       "      <th>2</th>\n",
       "      <td>January</td>\n",
       "      <td>1</td>\n",
       "    </tr>\n",
       "    <tr>\n",
       "      <th>3</th>\n",
       "      <td>June</td>\n",
       "      <td>0</td>\n",
       "    </tr>\n",
       "    <tr>\n",
       "      <th>4</th>\n",
       "      <td>July</td>\n",
       "      <td>1</td>\n",
       "    </tr>\n",
       "  </tbody>\n",
       "</table>\n",
       "</div>"
      ],
      "text/plain": [
       "       Month  Electric Vehicle (EV) Total\n",
       "0  September                            7\n",
       "1   December                            3\n",
       "2    January                            1\n",
       "3       June                            0\n",
       "4       July                            1"
      ]
     },
     "execution_count": 404,
     "metadata": {},
     "output_type": "execute_result"
    }
   ],
   "source": [
    "#e vehicle by month\n",
    "#month with highest e vehicle registration\n",
    "evehicle_month = ev_df[['Month','Electric Vehicle (EV) Total']]\n",
    "evehicle_month.head()"
   ]
  },
  {
   "cell_type": "code",
   "execution_count": null,
   "metadata": {},
   "outputs": [
    {
     "data": {
      "text/html": [
       "<div>\n",
       "<style scoped>\n",
       "    .dataframe tbody tr th:only-of-type {\n",
       "        vertical-align: middle;\n",
       "    }\n",
       "\n",
       "    .dataframe tbody tr th {\n",
       "        vertical-align: top;\n",
       "    }\n",
       "\n",
       "    .dataframe thead th {\n",
       "        text-align: right;\n",
       "    }\n",
       "</style>\n",
       "<table border=\"1\" class=\"dataframe\">\n",
       "  <thead>\n",
       "    <tr style=\"text-align: right;\">\n",
       "      <th></th>\n",
       "      <th>Electric Vehicle (EV) Total</th>\n",
       "    </tr>\n",
       "    <tr>\n",
       "      <th>Month</th>\n",
       "      <th></th>\n",
       "    </tr>\n",
       "  </thead>\n",
       "  <tbody>\n",
       "    <tr>\n",
       "      <th>February</th>\n",
       "      <td>608272</td>\n",
       "    </tr>\n",
       "    <tr>\n",
       "      <th>January</th>\n",
       "      <td>596869</td>\n",
       "    </tr>\n",
       "    <tr>\n",
       "      <th>December</th>\n",
       "      <td>557491</td>\n",
       "    </tr>\n",
       "    <tr>\n",
       "      <th>November</th>\n",
       "      <td>545647</td>\n",
       "    </tr>\n",
       "    <tr>\n",
       "      <th>October</th>\n",
       "      <td>532137</td>\n",
       "    </tr>\n",
       "    <tr>\n",
       "      <th>September</th>\n",
       "      <td>515988</td>\n",
       "    </tr>\n",
       "    <tr>\n",
       "      <th>August</th>\n",
       "      <td>505172</td>\n",
       "    </tr>\n",
       "    <tr>\n",
       "      <th>July</th>\n",
       "      <td>491115</td>\n",
       "    </tr>\n",
       "    <tr>\n",
       "      <th>June</th>\n",
       "      <td>477611</td>\n",
       "    </tr>\n",
       "    <tr>\n",
       "      <th>May</th>\n",
       "      <td>466102</td>\n",
       "    </tr>\n",
       "    <tr>\n",
       "      <th>April</th>\n",
       "      <td>455635</td>\n",
       "    </tr>\n",
       "    <tr>\n",
       "      <th>March</th>\n",
       "      <td>443276</td>\n",
       "    </tr>\n",
       "  </tbody>\n",
       "</table>\n",
       "</div>"
      ],
      "text/plain": [
       "           Electric Vehicle (EV) Total\n",
       "Month                                 \n",
       "February                        608272\n",
       "January                         596869\n",
       "December                        557491\n",
       "November                        545647\n",
       "October                         532137\n",
       "September                       515988\n",
       "August                          505172\n",
       "July                            491115\n",
       "June                            477611\n",
       "May                             466102\n",
       "April                           455635\n",
       "March                           443276"
      ]
     },
     "execution_count": 436,
     "metadata": {},
     "output_type": "execute_result"
    }
   ],
   "source": [
    "evehicle_month.groupby('Month').sum().sort_values(by='Electric Vehicle (EV) Total', \n",
    "                                                  ascending=False)"
   ]
  },
  {
   "cell_type": "code",
   "execution_count": null,
   "metadata": {},
   "outputs": [
    {
     "data": {
      "text/html": [
       "<div>\n",
       "<style scoped>\n",
       "    .dataframe tbody tr th:only-of-type {\n",
       "        vertical-align: middle;\n",
       "    }\n",
       "\n",
       "    .dataframe tbody tr th {\n",
       "        vertical-align: top;\n",
       "    }\n",
       "\n",
       "    .dataframe thead th {\n",
       "        text-align: right;\n",
       "    }\n",
       "</style>\n",
       "<table border=\"1\" class=\"dataframe\">\n",
       "  <thead>\n",
       "    <tr style=\"text-align: right;\">\n",
       "      <th></th>\n",
       "      <th>Month</th>\n",
       "      <th>Non-Electric Vehicle Total</th>\n",
       "    </tr>\n",
       "  </thead>\n",
       "  <tbody>\n",
       "    <tr>\n",
       "      <th>0</th>\n",
       "      <td>September</td>\n",
       "      <td>460</td>\n",
       "    </tr>\n",
       "    <tr>\n",
       "      <th>1</th>\n",
       "      <td>December</td>\n",
       "      <td>188</td>\n",
       "    </tr>\n",
       "    <tr>\n",
       "      <th>2</th>\n",
       "      <td>January</td>\n",
       "      <td>32</td>\n",
       "    </tr>\n",
       "    <tr>\n",
       "      <th>3</th>\n",
       "      <td>June</td>\n",
       "      <td>3575</td>\n",
       "    </tr>\n",
       "    <tr>\n",
       "      <th>4</th>\n",
       "      <td>July</td>\n",
       "      <td>83</td>\n",
       "    </tr>\n",
       "  </tbody>\n",
       "</table>\n",
       "</div>"
      ],
      "text/plain": [
       "       Month  Non-Electric Vehicle Total\n",
       "0  September                         460\n",
       "1   December                         188\n",
       "2    January                          32\n",
       "3       June                        3575\n",
       "4       July                          83"
      ]
     },
     "execution_count": 406,
     "metadata": {},
     "output_type": "execute_result"
    }
   ],
   "source": [
    "#non electric vehicle by month\n",
    "#month with highest non electric vehicle registration\n",
    "nvehicle_month = ev_df[['Month','Non-Electric Vehicle Total']]\n",
    "nvehicle_month.head()"
   ]
  },
  {
   "cell_type": "code",
   "execution_count": null,
   "metadata": {},
   "outputs": [
    {
     "data": {
      "text/html": [
       "<div>\n",
       "<style scoped>\n",
       "    .dataframe tbody tr th:only-of-type {\n",
       "        vertical-align: middle;\n",
       "    }\n",
       "\n",
       "    .dataframe tbody tr th {\n",
       "        vertical-align: top;\n",
       "    }\n",
       "\n",
       "    .dataframe thead th {\n",
       "        text-align: right;\n",
       "    }\n",
       "</style>\n",
       "<table border=\"1\" class=\"dataframe\">\n",
       "  <thead>\n",
       "    <tr style=\"text-align: right;\">\n",
       "      <th></th>\n",
       "      <th>Non-Electric Vehicle Total</th>\n",
       "    </tr>\n",
       "    <tr>\n",
       "      <th>Month</th>\n",
       "      <th></th>\n",
       "    </tr>\n",
       "  </thead>\n",
       "  <tbody>\n",
       "    <tr>\n",
       "      <th>January</th>\n",
       "      <td>48490975</td>\n",
       "    </tr>\n",
       "    <tr>\n",
       "      <th>February</th>\n",
       "      <td>48344872</td>\n",
       "    </tr>\n",
       "    <tr>\n",
       "      <th>October</th>\n",
       "      <td>42599894</td>\n",
       "    </tr>\n",
       "    <tr>\n",
       "      <th>November</th>\n",
       "      <td>42591190</td>\n",
       "    </tr>\n",
       "    <tr>\n",
       "      <th>September</th>\n",
       "      <td>42590582</td>\n",
       "    </tr>\n",
       "  </tbody>\n",
       "</table>\n",
       "</div>"
      ],
      "text/plain": [
       "           Non-Electric Vehicle Total\n",
       "Month                                \n",
       "January                      48490975\n",
       "February                     48344872\n",
       "October                      42599894\n",
       "November                     42591190\n",
       "September                    42590582"
      ]
     },
     "execution_count": 407,
     "metadata": {},
     "output_type": "execute_result"
    }
   ],
   "source": [
    "nvehicle_month.groupby('Month').sum().sort_values(by='Non-Electric Vehicle Total', \n",
    "                                                  ascending=False).head()"
   ]
  },
  {
   "cell_type": "code",
   "execution_count": null,
   "metadata": {},
   "outputs": [
    {
     "data": {
      "text/html": [
       "<div>\n",
       "<style scoped>\n",
       "    .dataframe tbody tr th:only-of-type {\n",
       "        vertical-align: middle;\n",
       "    }\n",
       "\n",
       "    .dataframe tbody tr th {\n",
       "        vertical-align: top;\n",
       "    }\n",
       "\n",
       "    .dataframe thead th {\n",
       "        text-align: right;\n",
       "    }\n",
       "</style>\n",
       "<table border=\"1\" class=\"dataframe\">\n",
       "  <thead>\n",
       "    <tr style=\"text-align: right;\">\n",
       "      <th></th>\n",
       "      <th>Country</th>\n",
       "      <th>State</th>\n",
       "      <th>Vehicle Primary Use</th>\n",
       "      <th>Battery Electric Vehicles (BEVs)</th>\n",
       "      <th>Plug-In Hybrid Electric Vehicles (PHEVs)</th>\n",
       "      <th>Electric Vehicle (EV) Total</th>\n",
       "      <th>Non-Electric Vehicle Total</th>\n",
       "      <th>Total Vehicles</th>\n",
       "      <th>Percent Electric Vehicles</th>\n",
       "      <th>Month</th>\n",
       "      <th>Day</th>\n",
       "      <th>Year</th>\n",
       "    </tr>\n",
       "  </thead>\n",
       "  <tbody>\n",
       "    <tr>\n",
       "      <th>0</th>\n",
       "      <td>Riverside</td>\n",
       "      <td>CA</td>\n",
       "      <td>Passenger</td>\n",
       "      <td>7</td>\n",
       "      <td>0</td>\n",
       "      <td>7</td>\n",
       "      <td>460</td>\n",
       "      <td>467</td>\n",
       "      <td>1.50</td>\n",
       "      <td>September</td>\n",
       "      <td>30</td>\n",
       "      <td>2022</td>\n",
       "    </tr>\n",
       "    <tr>\n",
       "      <th>1</th>\n",
       "      <td>Prince William</td>\n",
       "      <td>VA</td>\n",
       "      <td>Passenger</td>\n",
       "      <td>1</td>\n",
       "      <td>2</td>\n",
       "      <td>3</td>\n",
       "      <td>188</td>\n",
       "      <td>191</td>\n",
       "      <td>1.57</td>\n",
       "      <td>December</td>\n",
       "      <td>31</td>\n",
       "      <td>2022</td>\n",
       "    </tr>\n",
       "  </tbody>\n",
       "</table>\n",
       "</div>"
      ],
      "text/plain": [
       "          Country State Vehicle Primary Use  Battery Electric Vehicles (BEVs)  \\\n",
       "0       Riverside    CA           Passenger                                 7   \n",
       "1  Prince William    VA           Passenger                                 1   \n",
       "\n",
       "   Plug-In Hybrid Electric Vehicles (PHEVs)  Electric Vehicle (EV) Total  \\\n",
       "0                                         0                            7   \n",
       "1                                         2                            3   \n",
       "\n",
       "   Non-Electric Vehicle Total  Total Vehicles  Percent Electric Vehicles  \\\n",
       "0                         460             467                       1.50   \n",
       "1                         188             191                       1.57   \n",
       "\n",
       "       Month Day  Year  \n",
       "0  September  30  2022  \n",
       "1   December  31  2022  "
      ]
     },
     "execution_count": 408,
     "metadata": {},
     "output_type": "execute_result"
    }
   ],
   "source": [
    "ev_df.head(2)\n",
    "\n"
   ]
  },
  {
   "cell_type": "code",
   "execution_count": null,
   "metadata": {},
   "outputs": [
    {
     "data": {
      "text/html": [
       "<div>\n",
       "<style scoped>\n",
       "    .dataframe tbody tr th:only-of-type {\n",
       "        vertical-align: middle;\n",
       "    }\n",
       "\n",
       "    .dataframe tbody tr th {\n",
       "        vertical-align: top;\n",
       "    }\n",
       "\n",
       "    .dataframe thead th {\n",
       "        text-align: right;\n",
       "    }\n",
       "</style>\n",
       "<table border=\"1\" class=\"dataframe\">\n",
       "  <thead>\n",
       "    <tr style=\"text-align: right;\">\n",
       "      <th></th>\n",
       "      <th>Electric Vehicle (EV) Total</th>\n",
       "      <th>Non-Electric Vehicle Total</th>\n",
       "    </tr>\n",
       "  </thead>\n",
       "  <tbody>\n",
       "    <tr>\n",
       "      <th>0</th>\n",
       "      <td>7</td>\n",
       "      <td>460</td>\n",
       "    </tr>\n",
       "    <tr>\n",
       "      <th>1</th>\n",
       "      <td>3</td>\n",
       "      <td>188</td>\n",
       "    </tr>\n",
       "  </tbody>\n",
       "</table>\n",
       "</div>"
      ],
      "text/plain": [
       "   Electric Vehicle (EV) Total  Non-Electric Vehicle Total\n",
       "0                            7                         460\n",
       "1                            3                         188"
      ]
     },
     "execution_count": 409,
     "metadata": {},
     "output_type": "execute_result"
    }
   ],
   "source": [
    "cor_matrix = ev_df[['Electric Vehicle (EV) Total','Non-Electric Vehicle Total']]\n",
    "cor_matrix.head(2)"
   ]
  },
  {
   "cell_type": "code",
   "execution_count": null,
   "metadata": {},
   "outputs": [
    {
     "data": {
      "text/html": [
       "<div>\n",
       "<style scoped>\n",
       "    .dataframe tbody tr th:only-of-type {\n",
       "        vertical-align: middle;\n",
       "    }\n",
       "\n",
       "    .dataframe tbody tr th {\n",
       "        vertical-align: top;\n",
       "    }\n",
       "\n",
       "    .dataframe thead th {\n",
       "        text-align: right;\n",
       "    }\n",
       "</style>\n",
       "<table border=\"1\" class=\"dataframe\">\n",
       "  <thead>\n",
       "    <tr style=\"text-align: right;\">\n",
       "      <th></th>\n",
       "      <th>Electric Vehicle (EV) Total</th>\n",
       "      <th>Non-Electric Vehicle Total</th>\n",
       "    </tr>\n",
       "  </thead>\n",
       "  <tbody>\n",
       "    <tr>\n",
       "      <th>Electric Vehicle (EV) Total</th>\n",
       "      <td>1.000000</td>\n",
       "      <td>0.802487</td>\n",
       "    </tr>\n",
       "    <tr>\n",
       "      <th>Non-Electric Vehicle Total</th>\n",
       "      <td>0.802487</td>\n",
       "      <td>1.000000</td>\n",
       "    </tr>\n",
       "  </tbody>\n",
       "</table>\n",
       "</div>"
      ],
      "text/plain": [
       "                             Electric Vehicle (EV) Total  \\\n",
       "Electric Vehicle (EV) Total                     1.000000   \n",
       "Non-Electric Vehicle Total                      0.802487   \n",
       "\n",
       "                             Non-Electric Vehicle Total  \n",
       "Electric Vehicle (EV) Total                    0.802487  \n",
       "Non-Electric Vehicle Total                     1.000000  "
      ]
     },
     "execution_count": 410,
     "metadata": {},
     "output_type": "execute_result"
    }
   ],
   "source": [
    "cor_matrix.corr()"
   ]
  },
  {
   "cell_type": "code",
   "execution_count": null,
   "metadata": {},
   "outputs": [],
   "source": []
  },
  {
   "cell_type": "markdown",
   "metadata": {},
   "source": [
    "VISUALIZATION"
   ]
  },
  {
   "cell_type": "code",
   "execution_count": null,
   "metadata": {},
   "outputs": [
    {
     "data": {
      "text/plain": [
       "Text(0, 0.5, 'Frequency')"
      ]
     },
     "execution_count": 411,
     "metadata": {},
     "output_type": "execute_result"
    },
    {
     "data": {
      "image/png": "[encoded data removed]",
      "text/plain": [
       "<Figure size 640x480 with 1 Axes>"
      ]
     },
     "metadata": {},
     "output_type": "display_data"
    }
   ],
   "source": [
    "#sum of electric and non-electric vehicles,1\n",
    "import matplotlib.pyplot as plt\n",
    "import seaborn as sbn\n",
    "\n",
    "sbn.set_style('darkgrid')\n",
    "ev_df[['Electric Vehicle (EV) Total','Non-Electric Vehicle Total']].sum().plot(kind='bar')\n",
    "plt.xticks(rotation=15)\n",
    "plt.title('Electric and Non-Electric Vehicles Distribution')\n",
    "plt.xlabel('Total Vehicles')\n",
    "plt.ylabel('Frequency')\n",
    "#plt.bar_label()"
   ]
  },
  {
   "cell_type": "code",
   "execution_count": null,
   "metadata": {},
   "outputs": [
    {
     "data": {
      "text/plain": [
       "Text(0.5, 1.0, 'Top 10 Countries with Registered Electric Vehicles')"
      ]
     },
     "execution_count": 439,
     "metadata": {},
     "output_type": "execute_result"
    },
    {
     "data": {
      "image/png": "[encoded data removed]",
      "text/plain": [
       "<Figure size 640x480 with 1 Axes>"
      ]
     },
     "metadata": {},
     "output_type": "display_data"
    }
   ],
   "source": [
    "#top 10 countries with registered e_vehicles, 2\n",
    "import matplotlib.pyplot as plt\n",
    "import seaborn as sbn\n",
    "\n",
    "sbn.set_style('darkgrid')\n",
    "plt.plot(e_vehiclesby_country.groupby('Country').sum('Electric Vehicle (EV) Total').sort_values('Electric Vehicle (EV) Total',\n",
    "                                                                              ascending=False).head(10),marker='o',color='g')\n",
    "plt.xticks(rotation=60)\n",
    "plt.xlabel('Country')\n",
    "plt.ylabel('Frequency')\n",
    "plt.title('Top 10 Countries with Registered Electric Vehicles')\n",
    "\n"
   ]
  },
  {
   "cell_type": "code",
   "execution_count": null,
   "metadata": {},
   "outputs": [
    {
     "data": {
      "text/plain": [
       "Text(0.5, 1.0, 'Top 10 Countries with Registered Electric Vehicles')"
      ]
     },
     "execution_count": 438,
     "metadata": {},
     "output_type": "execute_result"
    },
    {
     "data": {
      "image/png": "[encoded data removed]",
      "text/plain": [
       "<Figure size 640x480 with 1 Axes>"
      ]
     },
     "metadata": {},
     "output_type": "display_data"
    }
   ],
   "source": [
    "#top 10 countries with registered e_vehicles, 2\n",
    "import matplotlib.pyplot as plt\n",
    "import seaborn as sbn\n",
    "\n",
    "sbn.set_style('darkgrid')\n",
    "e_vehiclesby_country.groupby('Country').sum('Electric Vehicle (EV) Total').sort_values('Electric Vehicle (EV) Total',\n",
    "                                                                                      ascending=False).head(10).plot(kind='bar')\n",
    "\n",
    "plt.xticks(rotation=45)\n",
    "plt.xlabel('Country')\n",
    "plt.ylabel('Frequency')\n",
    "plt.title('Top 10 Countries with Registered Electric Vehicles')"
   ]
  },
  {
   "cell_type": "code",
   "execution_count": null,
   "metadata": {},
   "outputs": [
    {
     "data": {
      "text/plain": [
       "Text(0, 0.5, 'Number of Electric Vehicles')"
      ]
     },
     "execution_count": 414,
     "metadata": {},
     "output_type": "execute_result"
    },
    {
     "data": {
      "image/png": "[encoded data removed]",
      "text/plain": [
       "<Figure size 640x480 with 1 Axes>"
      ]
     },
     "metadata": {},
     "output_type": "display_data"
    }
   ],
   "source": [
    "#sum of electric vehicles by use, 3\n",
    "import matplotlib.pyplot as plt\n",
    "import seaborn as sbn\n",
    "\n",
    "sbn.set_style('dark')\n",
    "evby_use.groupby('Vehicle Primary Use').sum().plot(kind='bar')\n",
    "#plt.plot(evby_use, marker='o', color='b')\n",
    "plt.title('Electric Vehicle Use Distribution')\n",
    "plt.xticks(rotation=70)\n",
    "plt.ylabel('Number of Electric Vehicles')\n",
    "#plt.xlabel('')"
   ]
  },
  {
   "cell_type": "code",
   "execution_count": null,
   "metadata": {},
   "outputs": [
    {
     "data": {
      "text/plain": [
       "\"\\nimport matplotlib.pyplot as plt\\nimport seaborn as sbn\\n\\nsbn.set_style('dark')\\nplt.plot(evby_use, marker='o', color='g')\\nplt.plot(non_ev_use, 'o--y')\\nplt.legend(['ev_use','non_ev_use'])\\nplt.xticks(rotation=80)\\nplt.xlabel('Vehicle Primary Use')\\nplt.ylabel('Electric & Non-Electric Vehicle Sum')\\nplt.title('Electric & Non-Electric Vehicle Use distribution')\\n\""
      ]
     },
     "execution_count": 415,
     "metadata": {},
     "output_type": "execute_result"
    }
   ],
   "source": [
    "#Electric & Non-Electric Vehicle Use distribution, \n",
    "'''\n",
    "import matplotlib.pyplot as plt\n",
    "import seaborn as sbn\n",
    "\n",
    "sbn.set_style('dark')\n",
    "plt.plot(evby_use, marker='o', color='g')\n",
    "plt.plot(non_ev_use, 'o--y')\n",
    "plt.legend(['ev_use','non_ev_use'])\n",
    "plt.xticks(rotation=80)\n",
    "plt.xlabel('Vehicle Primary Use')\n",
    "plt.ylabel('Electric & Non-Electric Vehicle Sum')\n",
    "plt.title('Electric & Non-Electric Vehicle Use distribution')\n",
    "'''"
   ]
  },
  {
   "cell_type": "code",
   "execution_count": null,
   "metadata": {},
   "outputs": [
    {
     "data": {
      "text/plain": [
       "Text(0, 0.5, 'Frequency')"
      ]
     },
     "execution_count": 440,
     "metadata": {},
     "output_type": "execute_result"
    },
    {
     "data": {
      "image/png": "[encoded data removed]",
      "text/plain": [
       "<Figure size 640x480 with 1 Axes>"
      ]
     },
     "metadata": {},
     "output_type": "display_data"
    }
   ],
   "source": [
    "#electric vehicle types by use, 4\n",
    "import matplotlib.pyplot as plt\n",
    "import seaborn as sbn\n",
    "\n",
    "ev_typesby_use.groupby('Vehicle Primary Use').sum().plot(kind='bar')\n",
    "plt.xticks(rotation=80)\n",
    "plt.title('Electric Vehicle Types  by Use')\n",
    "plt.ylabel('Frequency')\n"
   ]
  },
  {
   "cell_type": "code",
   "execution_count": null,
   "metadata": {},
   "outputs": [
    {
     "data": {
      "text/plain": [
       "Text(0, 0.5, 'Electric Vehicle (EV) Total')"
      ]
     },
     "execution_count": 417,
     "metadata": {},
     "output_type": "execute_result"
    },
    {
     "data": {
      "image/png": "[encoded data removed]",
      "text/plain": [
       "<Figure size 640x480 with 1 Axes>"
      ]
     },
     "metadata": {},
     "output_type": "display_data"
    }
   ],
   "source": [
    "#top 5 states with electric vehicles, 5\n",
    "import matplotlib.pyplot as plt\n",
    "import seaborn as sbn\n",
    "\n",
    "ev_bystate.groupby('State').sum().sort_values(by='Electric Vehicle (EV) Total', ascending=False).head(5).plot(kind='bar')\n",
    "plt.title('Top 5 States with Electric Vehicles')\n",
    "plt.xticks(rotation=80)\n",
    "plt.ylabel('Electric Vehicle (EV) Total')\n"
   ]
  },
  {
   "cell_type": "code",
   "execution_count": null,
   "metadata": {},
   "outputs": [
    {
     "data": {
      "text/plain": [
       "Text(0.5, 0, 'Frequency')"
      ]
     },
     "execution_count": 418,
     "metadata": {},
     "output_type": "execute_result"
    },
    {
     "data": {
      "image/png": "[encoded data removed]",
      "text/plain": [
       "<Figure size 640x480 with 1 Axes>"
      ]
     },
     "metadata": {},
     "output_type": "display_data"
    }
   ],
   "source": [
    "#electric vehicles by year, 6\n",
    "import matplotlib.pyplot as plt\n",
    "import seaborn as sbn\n",
    "\n",
    "sbn.set_style('darkgrid')\n",
    "evehicle_yr.groupby('Year').sum().plot(kind='barh')\n",
    "plt.title('Total Electric Vehicles Registered by Year')\n",
    "plt.xlabel('Frequency')\n"
   ]
  },
  {
   "cell_type": "code",
   "execution_count": null,
   "metadata": {},
   "outputs": [
    {
     "data": {
      "text/plain": [
       "<Axes: ylabel='Month'>"
      ]
     },
     "execution_count": 419,
     "metadata": {},
     "output_type": "execute_result"
    },
    {
     "data": {
      "text/plain": [
       "<Figure size 1000x800 with 0 Axes>"
      ]
     },
     "metadata": {},
     "output_type": "display_data"
    },
    {
     "data": {
      "image/png": "[encoded data removed]",
      "text/plain": [
       "<Figure size 640x480 with 1 Axes>"
      ]
     },
     "metadata": {},
     "output_type": "display_data"
    }
   ],
   "source": [
    "import matplotlib.pyplot as plt\n",
    "import seaborn as sbn\n",
    "\n",
    "plt.figure(figsize=[10,8])\n",
    "evehicle_month.groupby('Month').sum().plot(kind='barh')\n",
    "\n"
   ]
  },
  {
   "cell_type": "code",
   "execution_count": null,
   "metadata": {},
   "outputs": [
    {
     "data": {
      "text/plain": [
       "Text(0.5, 1.0, 'Total Electric Vehicles Registered by Month')"
      ]
     },
     "execution_count": 446,
     "metadata": {},
     "output_type": "execute_result"
    },
    {
     "data": {
      "image/png": "[encoded data removed]",
      "text/plain": [
       "<Figure size 640x480 with 1 Axes>"
      ]
     },
     "metadata": {},
     "output_type": "display_data"
    }
   ],
   "source": [
    "import matplotlib.pyplot as plt\n",
    "import seaborn as sbn\n",
    "\n",
    "sbn.set_style('darkgrid')\n",
    "\n",
    "evehicle_month.groupby('Month').sum().sort_values(by='Electric Vehicle (EV) Total', \n",
    "                                                  ascending=True).plot(kind='bar')\n",
    "\n",
    "plt.plot(evehicle_month.groupby('Month').sum().sort_values(by='Electric Vehicle (EV) Total', \n",
    "                                                  ascending=True), '.--r')\n",
    "plt.xticks(rotation=60)\n",
    "plt.ylabel('Frequency')\n",
    "plt.title('Total Electric Vehicles Registered by Month')\n",
    "#sbn.heatmap(cor_matrix)"
   ]
  },
  {
   "cell_type": "code",
   "execution_count": 536,
   "metadata": {},
   "outputs": [
    {
     "data": {
      "text/plain": [
       "(array([0.5, 1.5, 2.5, 3.5, 4.5]),\n",
       " [Text(0.5, 0, 'Battery Electric Vehicles (BEVs)'),\n",
       "  Text(1.5, 0, 'Plug-In Hybrid Electric Vehicles (PHEVs)'),\n",
       "  Text(2.5, 0, 'Electric Vehicle (EV) Total'),\n",
       "  Text(3.5, 0, 'Non-Electric Vehicle Total'),\n",
       "  Text(4.5, 0, 'Total Vehicles')])"
      ]
     },
     "execution_count": 536,
     "metadata": {},
     "output_type": "execute_result"
    },
    {
     "data": {
      "image/png": "[encoded data removed]",
      "text/plain": [
       "<Figure size 640x480 with 2 Axes>"
      ]
     },
     "metadata": {},
     "output_type": "display_data"
    }
   ],
   "source": [
    "import matplotlib.pyplot as plt\n",
    "import seaborn as sbn\n",
    "\n",
    "\n",
    "#sbn.heatmap(cor_matrix.corr(), annot=True, cmap='mako', center=0)\n",
    "\n",
    "sbn.heatmap(cor_matrix.corr(), annot=True)\n",
    "plt.title('Correlation Matrix')\n",
    "plt.xticks(rotation=70)\n",
    "\n"
   ]
  }
 ],
 "metadata": {
  "kernelspec": {
   "display_name": "Python 3",
   "language": "python",
   "name": "python3"
  },
  "language_info": {
   "codemirror_mode": {
    "name": "ipython",
    "version": 3
   },
   "file_extension": ".py",
   "mimetype": "text/x-python",
   "name": "python",
   "nbconvert_exporter": "python",
   "pygments_lexer": "ipython3",
   "version": "3.12.2"
  }
 },
 "nbformat": 4,
 "nbformat_minor": 2
}
